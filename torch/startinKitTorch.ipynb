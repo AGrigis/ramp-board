{
 "metadata": {
  "language": "lua",
  "name": "",
  "signature": "sha256:b8c1d8c14572e9648158737dc0ea2fa05e6731bfd2c169c417695e51d89c3a39"
 },
 "nbformat": 3,
 "nbformat_minor": 0,
 "worksheets": [
  {
   "cells": [
    {
     "cell_type": "code",
     "collapsed": false,
     "input": [
      "csv2tensor = require 'csv2tensor'\n",
      "helpers = require 'helpers' -- for get_data_and_column_names and data_overview\n",
      "require 'save_report'\n",
      "require 'itorch'\n",
      "Plot = require 'itorch.Plot'\n",
      "nan_value = -999"
     ],
     "language": "python",
     "metadata": {},
     "outputs": [],
     "prompt_number": 1
    },
    {
     "cell_type": "code",
     "collapsed": false,
     "input": [
      "data_object = helpers.get_data_and_column_names(\"../data.csv\")"
     ],
     "language": "python",
     "metadata": {},
     "outputs": [
      {
       "metadata": {},
       "output_type": "pyout",
       "prompt_number": 2,
       "text": [
        "loading data from csv\t\n",
        "<csv>\tparsing file: ../data.csv\t\n"
       ]
      },
      {
       "metadata": {},
       "output_type": "pyout",
       "prompt_number": 2,
       "text": [
        "<csv>\ttidying up entries\t\n"
       ]
      },
      {
       "metadata": {},
       "output_type": "pyout",
       "prompt_number": 2,
       "text": [
        "<csv>\treturning tidy table\t\n",
        "creating tensor\t\n"
       ]
      },
      {
       "metadata": {},
       "output_type": "pyout",
       "prompt_number": 2,
       "text": [
        "loading data from csv\t\n",
        "<csv>\tparsing file: ../data.csv\t\n"
       ]
      },
      {
       "metadata": {},
       "output_type": "pyout",
       "prompt_number": 2,
       "text": [
        "<csv>\ttidying up entries\t\n"
       ]
      },
      {
       "metadata": {},
       "output_type": "pyout",
       "prompt_number": 2,
       "text": [
        "<csv>\treturning tidy table\t\n",
        "creating tensor\t\n"
       ]
      }
     ],
     "prompt_number": 2
    },
    {
     "cell_type": "code",
     "collapsed": false,
     "input": [
      "X, y, column_names = data_object.X, data_object.y, data_object.column_names -- just because it is more convenient"
     ],
     "language": "python",
     "metadata": {},
     "outputs": [],
     "prompt_number": 3
    },
    {
     "cell_type": "code",
     "collapsed": false,
     "input": [
      "require 'dp' -- import a deep learning library of torch"
     ],
     "language": "python",
     "metadata": {},
     "outputs": [],
     "prompt_number": 4
    },
    {
     "cell_type": "code",
     "collapsed": false,
     "input": [
      "itorch.html(helpers.data_overview(X, column_names, 100, 10)) -- display 100 rows and 10 columns"
     ],
     "language": "python",
     "metadata": {},
     "outputs": [
      {
       "html": [
        "<script type=\"text/javascript\">\n",
        "  $(function() {\n",
        "    $(\"#3ec781e8-420c-4d75-cdcb-dee6b0d0068c\").html('<table><tr><td><strong>ABPd-0->24-max</strong></td><td><strong>ABPd-0->24-max_mv</strong></td><td><strong>ABPd-0->24-mean</strong></td><td><strong>ABPd-0->24-mean_mv</strong></td><td><strong>ABPd-0->24-min</strong></td><td><strong>ABPd-0->24-min_mv</strong></td><td><strong>ABPd-0->24-std</strong></td><td><strong>ABPd-0->24-std_mv</strong></td><td><strong>ABPm-0->24-max</strong></td><td><strong>ABPm-0->24-max_mv</strong></td></tr><tr><td>90</td><td>0</td><td>53.710526315789</td><td>0</td><td>35</td><td>0</td><td>15.675610070005</td><td>0</td><td>114.67</td><td>0</td></tr><tr><td>57</td><td>0</td><td>47.470588235294</td><td>0</td><td>41</td><td>0</td><td>4.570525777452</td><td>0</td><td>80</td><td>0</td></tr><tr><td>68</td><td>0</td><td>53.904761904762</td><td>0</td><td>44</td><td>0</td><td>6.7372454453193</td><td>0</td><td>81</td><td>0</td></tr><tr><td>89</td><td>0</td><td>66.269230769231</td><td>0</td><td>49</td><td>0</td><td>10.861151660142</td><td>0</td><td>130</td><td>0</td></tr><tr><td>62</td><td>0</td><td>54.5625</td><td>0</td><td>49</td><td>0</td><td>4.1947387681873</td><td>0</td><td>82</td><td>0</td></tr><tr><td>-999</td><td>1</td><td>-999</td><td>1</td><td>-999</td><td>1</td><td>-999</td><td>1</td><td>-999</td><td>1</td></tr><tr><td>71</td><td>0</td><td>57.702127659574</td><td>0</td><td>35</td><td>0</td><td>8.660040399587</td><td>0</td><td>83.33</td><td>0</td></tr><tr><td>54</td><td>0</td><td>45.941176470588</td><td>0</td><td>39</td><td>0</td><td>3.7573457465109</td><td>0</td><td>78</td><td>0</td></tr><tr><td>68</td><td>0</td><td>49.684210526316</td><td>0</td><td>41</td><td>0</td><td>7.9446182453487</td><td>0</td><td>104</td><td>0</td></tr><tr><td>78</td><td>0</td><td>49.452380952381</td><td>0</td><td>22</td><td>0</td><td>13.040653845931</td><td>0</td><td>109.67</td><td>0</td></tr><tr><td>63</td><td>0</td><td>48.1</td><td>0</td><td>29</td><td>0</td><td>10.660935960578</td><td>0</td><td>101</td><td>0</td></tr><tr><td>60</td><td>0</td><td>40.911764705882</td><td>0</td><td>19</td><td>0</td><td>7.4523441382615</td><td>0</td><td>81</td><td>0</td></tr><tr><td>80</td><td>0</td><td>59.371428571429</td><td>0</td><td>33</td><td>0</td><td>9.6439121738435</td><td>0</td><td>98.67</td><td>0</td></tr><tr><td>69</td><td>0</td><td>54.69696969697</td><td>0</td><td>35</td><td>0</td><td>8.5822667769246</td><td>0</td><td>83</td><td>0</td></tr><tr><td>63</td><td>0</td><td>52.055555555556</td><td>0</td><td>36</td><td>0</td><td>7.0500081119872</td><td>0</td><td>121</td><td>0</td></tr><tr><td>86</td><td>0</td><td>58.947368421053</td><td>0</td><td>46</td><td>0</td><td>8.6697025721797</td><td>0</td><td>86</td><td>0</td></tr><tr><td>58</td><td>0</td><td>48.607142857143</td><td>0</td><td>34</td><td>0</td><td>5.8331065715562</td><td>0</td><td>86</td><td>0</td></tr><tr><td>62</td><td>0</td><td>44.785714285714</td><td>0</td><td>32</td><td>0</td><td>9.3029550974394</td><td>0</td><td>87</td><td>0</td></tr><tr><td>64</td><td>0</td><td>43.85</td><td>0</td><td>30</td><td>0</td><td>8.8512562296041</td><td>0</td><td>94.67</td><td>0</td></tr><tr><td>52</td><td>0</td><td>51.666666666667</td><td>0</td><td>51</td><td>0</td><td>0.57735026918963</td><td>0</td><td>68</td><td>0</td></tr><tr><td>69</td><td>0</td><td>55.977272727273</td><td>0</td><td>39</td><td>0</td><td>4.6779474547077</td><td>0</td><td>111</td><td>0</td></tr><tr><td>67</td><td>0</td><td>55.3</td><td>0</td><td>46</td><td>0</td><td>6.9189893621181</td><td>0</td><td>113</td><td>0</td></tr><tr><td>94</td><td>0</td><td>67.08</td><td>0</td><td>39</td><td>0</td><td>15.104966070799</td><td>0</td><td>126</td><td>0</td></tr><tr><td>83</td><td>0</td><td>57.566666666667</td><td>0</td><td>41</td><td>0</td><td>10.912452024884</td><td>0</td><td>101.33</td><td>0</td></tr><tr><td>77</td><td>0</td><td>55.878048780488</td><td>0</td><td>40</td><td>0</td><td>7.906311156131</td><td>0</td><td>109</td><td>0</td></tr><tr><td>106</td><td>0</td><td>66.676470588235</td><td>0</td><td>44</td><td>0</td><td>12.784272032783</td><td>0</td><td>140</td><td>0</td></tr><tr><td>90</td><td>0</td><td>61.125</td><td>0</td><td>27</td><td>0</td><td>17.644792707125</td><td>0</td><td>117</td><td>0</td></tr><tr><td>90</td><td>0</td><td>69.818181818182</td><td>0</td><td>45</td><td>0</td><td>14.19731088494</td><td>0</td><td>105</td><td>0</td></tr><tr><td>69</td><td>0</td><td>56.666666666667</td><td>0</td><td>49</td><td>0</td><td>6.6143782776615</td><td>0</td><td>90</td><td>0</td></tr><tr><td>80</td><td>0</td><td>51.871794871795</td><td>0</td><td>36</td><td>0</td><td>9.5536696922384</td><td>0</td><td>120</td><td>0</td></tr><tr><td>56</td><td>0</td><td>41.8</td><td>0</td><td>32</td><td>0</td><td>6.9301938073113</td><td>0</td><td>73.67</td><td>0</td></tr><tr><td>64</td><td>0</td><td>53.25</td><td>0</td><td>38</td><td>0</td><td>8.4845060024296</td><td>0</td><td>89</td><td>0</td></tr><tr><td>101</td><td>0</td><td>50.666666666667</td><td>0</td><td>28</td><td>0</td><td>20.812891932363</td><td>0</td><td>132</td><td>0</td></tr><tr><td>95</td><td>0</td><td>75.361111111111</td><td>0</td><td>59</td><td>0</td><td>7.0999105739953</td><td>0</td><td>124</td><td>0</td></tr><tr><td>59</td><td>0</td><td>44.571428571429</td><td>0</td><td>29</td><td>0</td><td>7.5739738159753</td><td>0</td><td>86</td><td>0</td></tr><tr><td>73</td><td>0</td><td>56.952380952381</td><td>0</td><td>42</td><td>0</td><td>7.8897160308606</td><td>0</td><td>90.33</td><td>0</td></tr><tr><td>58</td><td>0</td><td>46.131578947368</td><td>0</td><td>33</td><td>0</td><td>5.3229287438888</td><td>0</td><td>87</td><td>0</td></tr><tr><td>68</td><td>0</td><td>54.357142857143</td><td>0</td><td>42</td><td>0</td><td>9.2287772575965</td><td>0</td><td>86</td><td>0</td></tr><tr><td>67</td><td>0</td><td>50</td><td>0</td><td>30</td><td>0</td><td>7.3936910042729</td><td>0</td><td>85</td><td>0</td></tr><tr><td>59</td><td>0</td><td>50.545454545455</td><td>0</td><td>42</td><td>0</td><td>4.9671649129788</td><td>0</td><td>78.67</td><td>0</td></tr><tr><td>90</td><td>0</td><td>48.475409836066</td><td>0</td><td>19</td><td>0</td><td>14.06248740133</td><td>0</td><td>96.67</td><td>0</td></tr><tr><td>74</td><td>0</td><td>47.469387755102</td><td>0</td><td>17</td><td>0</td><td>12.750983688877</td><td>0</td><td>92</td><td>0</td></tr><tr><td>83</td><td>0</td><td>56.404761904762</td><td>0</td><td>29</td><td>0</td><td>13.895181694824</td><td>0</td><td>107</td><td>0</td></tr><tr><td>104</td><td>0</td><td>67.875</td><td>0</td><td>42</td><td>0</td><td>15.246703136145</td><td>0</td><td>140</td><td>0</td></tr><tr><td>61</td><td>0</td><td>39.8125</td><td>0</td><td>22</td><td>0</td><td>8.0419765665397</td><td>0</td><td>133.33</td><td>0</td></tr><tr><td>85</td><td>0</td><td>45.527777777778</td><td>0</td><td>24</td><td>0</td><td>12.255578580761</td><td>0</td><td>94.33</td><td>0</td></tr><tr><td>58</td><td>0</td><td>42.8</td><td>0</td><td>34</td><td>0</td><td>5.9503694466583</td><td>0</td><td>72.67</td><td>0</td></tr><tr><td>92</td><td>0</td><td>56.133333333333</td><td>0</td><td>31</td><td>0</td><td>13.289777342686</td><td>0</td><td>123.33</td><td>0</td></tr><tr><td>55</td><td>0</td><td>46.210526315789</td><td>0</td><td>35</td><td>0</td><td>4.7443410427397</td><td>0</td><td>76</td><td>0</td></tr><tr><td>55</td><td>0</td><td>44.942857142857</td><td>0</td><td>36</td><td>0</td><td>5.0986898959892</td><td>0</td><td>86</td><td>0</td></tr><tr><td>71</td><td>0</td><td>53.375</td><td>0</td><td>40</td><td>0</td><td>8.7566744729998</td><td>0</td><td>89</td><td>0</td></tr><tr><td>109</td><td>0</td><td>72.904761904762</td><td>0</td><td>44</td><td>0</td><td>14.231208446382</td><td>0</td><td>141</td><td>0</td></tr><tr><td>68</td><td>0</td><td>49.468085106383</td><td>0</td><td>38</td><td>0</td><td>6.7239062916348</td><td>0</td><td>99</td><td>0</td></tr><tr><td>94</td><td>0</td><td>62.625</td><td>0</td><td>36</td><td>0</td><td>14.199854561411</td><td>0</td><td>115</td><td>0</td></tr><tr><td>78</td><td>0</td><td>43.943661971831</td><td>0</td><td>15</td><td>0</td><td>13.829458541145</td><td>0</td><td>146</td><td>0</td></tr><tr><td>54</td><td>0</td><td>49.5</td><td>0</td><td>44</td><td>0</td><td>3.5456210417117</td><td>0</td><td>71</td><td>0</td></tr><tr><td>67</td><td>0</td><td>47.033333333333</td><td>0</td><td>25</td><td>0</td><td>9.6041777308137</td><td>0</td><td>95</td><td>0</td></tr><tr><td>52</td><td>0</td><td>38</td><td>0</td><td>24</td><td>0</td><td>11.966620241321</td><td>0</td><td>71</td><td>0</td></tr><tr><td>75</td><td>0</td><td>62.225806451613</td><td>0</td><td>40</td><td>0</td><td>7.8981418802963</td><td>0</td><td>101</td><td>0</td></tr><tr><td>63</td><td>0</td><td>51.923076923077</td><td>0</td><td>39</td><td>0</td><td>5.9861378328473</td><td>0</td><td>84.33</td><td>0</td></tr><tr><td>73</td><td>0</td><td>45.480769230769</td><td>0</td><td>30</td><td>0</td><td>8.1996900577851</td><td>0</td><td>84.67</td><td>0</td></tr><tr><td>77</td><td>0</td><td>53.266666666667</td><td>0</td><td>33</td><td>0</td><td>12.317448608778</td><td>0</td><td>100</td><td>0</td></tr><tr><td>80</td><td>0</td><td>48.538461538462</td><td>0</td><td>34</td><td>0</td><td>10.767353316201</td><td>0</td><td>98.33</td><td>0</td></tr><tr><td>73</td><td>0</td><td>51</td><td>0</td><td>29</td><td>0</td><td>11.61034021896</td><td>0</td><td>103.33</td><td>0</td></tr><tr><td>69</td><td>0</td><td>58.896551724138</td><td>0</td><td>45</td><td>0</td><td>7.364707479334</td><td>0</td><td>86.67</td><td>0</td></tr><tr><td>62</td><td>0</td><td>44.296296296296</td><td>0</td><td>32</td><td>0</td><td>6.7014052189695</td><td>0</td><td>83.67</td><td>0</td></tr><tr><td>59</td><td>0</td><td>43.636363636364</td><td>0</td><td>30</td><td>0</td><td>7.155054520743</td><td>0</td><td>94</td><td>0</td></tr><tr><td>54</td><td>0</td><td>41.96</td><td>0</td><td>38</td><td>0</td><td>3.8240467221692</td><td>0</td><td>75</td><td>0</td></tr><tr><td>63</td><td>0</td><td>45.25</td><td>0</td><td>28</td><td>0</td><td>8.7712704430536</td><td>0</td><td>82</td><td>0</td></tr><tr><td>62</td><td>0</td><td>47.411764705882</td><td>0</td><td>38</td><td>0</td><td>6.1038801545555</td><td>0</td><td>83</td><td>0</td></tr><tr><td>75</td><td>0</td><td>68.35</td><td>0</td><td>59</td><td>0</td><td>4.0558599581346</td><td>0</td><td>99</td><td>0</td></tr><tr><td>91</td><td>0</td><td>45.337837837838</td><td>0</td><td>30</td><td>0</td><td>7.8028393620739</td><td>0</td><td>109.67</td><td>0</td></tr><tr><td>73</td><td>0</td><td>51.807692307692</td><td>0</td><td>37</td><td>0</td><td>9.6706534661076</td><td>0</td><td>85</td><td>0</td></tr><tr><td>91</td><td>0</td><td>64.04</td><td>0</td><td>45</td><td>0</td><td>10.776053699446</td><td>0</td><td>114.33</td><td>0</td></tr><tr><td>75</td><td>0</td><td>59.44262295082</td><td>0</td><td>47</td><td>0</td><td>8.800614732627</td><td>0</td><td>101</td><td>0</td></tr><tr><td>54</td><td>0</td><td>31.538461538462</td><td>0</td><td>12</td><td>0</td><td>8.2715452932606</td><td>0</td><td>68.67</td><td>0</td></tr><tr><td>74</td><td>0</td><td>58.260869565217</td><td>0</td><td>41</td><td>0</td><td>9.3770386452729</td><td>0</td><td>88.67</td><td>0</td></tr><tr><td>68</td><td>0</td><td>51.04347826087</td><td>0</td><td>44</td><td>0</td><td>6.2046775674015</td><td>0</td><td>89</td><td>0</td></tr><tr><td>74</td><td>0</td><td>53.566666666667</td><td>0</td><td>36</td><td>0</td><td>10.009248596736</td><td>0</td><td>88</td><td>0</td></tr><tr><td>86</td><td>0</td><td>59.625</td><td>0</td><td>41</td><td>0</td><td>12.954141523416</td><td>0</td><td>100.33333333333</td><td>0</td></tr><tr><td>84</td><td>0</td><td>71.515151515152</td><td>0</td><td>61</td><td>0</td><td>6.0317970587194</td><td>0</td><td>105.33</td><td>0</td></tr><tr><td>103</td><td>0</td><td>50.038461538462</td><td>0</td><td>15</td><td>0</td><td>13.444644344067</td><td>0</td><td>113.33</td><td>0</td></tr><tr><td>84</td><td>0</td><td>47.458333333333</td><td>0</td><td>34</td><td>0</td><td>9.3992560606015</td><td>0</td><td>93</td><td>0</td></tr><tr><td>83</td><td>0</td><td>47.4375</td><td>0</td><td>29</td><td>0</td><td>13.544106435972</td><td>0</td><td>104</td><td>0</td></tr><tr><td>62</td><td>0</td><td>43.5</td><td>0</td><td>31</td><td>0</td><td>7.167984374983</td><td>0</td><td>107</td><td>0</td></tr><tr><td>73</td><td>0</td><td>62.75</td><td>0</td><td>51</td><td>0</td><td>5.2523286760959</td><td>0</td><td>94.67</td><td>0</td></tr><tr><td>72</td><td>0</td><td>56.058823529412</td><td>0</td><td>38</td><td>0</td><td>7.4201633088101</td><td>0</td><td>109</td><td>0</td></tr><tr><td>96</td><td>0</td><td>56.852941176471</td><td>0</td><td>16</td><td>0</td><td>14.414076354312</td><td>0</td><td>113</td><td>0</td></tr><tr><td>61</td><td>0</td><td>54.333333333333</td><td>0</td><td>43</td><td>0</td><td>6.3770421565697</td><td>0</td><td>79</td><td>0</td></tr><tr><td>72</td><td>0</td><td>55.522727272727</td><td>0</td><td>43</td><td>0</td><td>7.3973239547374</td><td>0</td><td>104</td><td>0</td></tr><tr><td>85</td><td>0</td><td>54.72972972973</td><td>0</td><td>23</td><td>0</td><td>11.295644806366</td><td>0</td><td>94</td><td>0</td></tr><tr><td>74</td><td>0</td><td>48.681818181818</td><td>0</td><td>26</td><td>0</td><td>11.285837579468</td><td>0</td><td>86.67</td><td>0</td></tr><tr><td>-999</td><td>1</td><td>-999</td><td>1</td><td>-999</td><td>1</td><td>-999</td><td>1</td><td>-999</td><td>1</td></tr><tr><td>61</td><td>0</td><td>50.9</td><td>0</td><td>32</td><td>0</td><td>7.3405865246802</td><td>0</td><td>78</td><td>0</td></tr><tr><td>80</td><td>0</td><td>46.727272727273</td><td>0</td><td>26</td><td>0</td><td>8.1735922943133</td><td>0</td><td>88</td><td>0</td></tr><tr><td>71</td><td>0</td><td>49.411764705882</td><td>0</td><td>33</td><td>0</td><td>11.006014398554</td><td>0</td><td>98</td><td>0</td></tr><tr><td>94</td><td>0</td><td>41.461538461538</td><td>0</td><td>29</td><td>0</td><td>13.446875530712</td><td>0</td><td>105</td><td>0</td></tr><tr><td>102</td><td>0</td><td>80.909090909091</td><td>0</td><td>67</td><td>0</td><td>8.2399092164965</td><td>0</td><td>111</td><td>0</td></tr><tr><td>64</td><td>0</td><td>39.633333333333</td><td>0</td><td>16</td><td>0</td><td>10.270424002708</td><td>0</td><td>80.67</td><td>0</td></tr><tr><td>97</td><td>0</td><td>58.44</td><td>0</td><td>25</td><td>0</td><td>21.109002818703</td><td>0</td><td>114</td><td>0</td></tr>'); // clear any previous plot in window_id     \n",
        "  });\n",
        "</script>\n",
        "<div id=\"3ec781e8-420c-4d75-cdcb-dee6b0d0068c\"></div>\n"
       ],
       "metadata": {},
       "output_type": "display_data"
      }
     ],
     "prompt_number": 5
    },
    {
     "cell_type": "code",
     "collapsed": false,
     "input": [
      "-- 0 = negative, 1 = positive\n",
      "pos_ratio = 100 * ( torch.sum(torch.Tensor.eq(y, 1)) / y:size(1))\n",
      "neg_ratio = 100 - pos_ratio\n",
      "print(\"Per. of positives : \" .. pos_ratio .. \"%\")\n",
      "print(\"Per. of negatives : \" .. neg_ratio .. \"%\")"
     ],
     "language": "python",
     "metadata": {},
     "outputs": [
      {
       "metadata": {},
       "output_type": "pyout",
       "prompt_number": 6,
       "text": [
        "Per. of positives : 28.851540616246%\t\n",
        "Per. of negatives : 71.148459383754%\t\n"
       ]
      }
     ],
     "prompt_number": 6
    },
    {
     "cell_type": "code",
     "collapsed": false,
     "input": [
      "-- either set col_index or col_name to get the histogram of a given column\n",
      "\n",
      "col_index = 3\n",
      "col_name = nil\n",
      "\n",
      "\n",
      "if col_index == nil then\n",
      "    for i in 1, #column_names do\n",
      "        if column_names[i] == col_name then\n",
      "            col_index = i\n",
      "            break\n",
      "        end\n",
      "    end\n",
      "end\n",
      "\n",
      "if col_name == nil then\n",
      "    col_name = column_names[col_index]\n",
      "end\n",
      "\n",
      "\n",
      "col_view = X:select(2, col_index)\n",
      "col_view = col_view[torch.ne(col_view, nan_value)] -- filter nan values\n",
      "plot = Plot():histogram(col_view)\n",
      "plot:title(col_name):redraw()\n",
      "plot:xaxis('value'):yaxis('freq'):redraw()\n",
      "plot:redraw()"
     ],
     "language": "python",
     "metadata": {},
     "outputs": [
      {
       "html": [
        "<script type=\"text/javascript\">\n",
        "$(function() {\n",
        "    if (typeof (window._bokeh_onload_callbacks) === \"undefined\"){\n",
        "  window._bokeh_onload_callbacks = [];\n",
        "    }\n",
        "    function load_lib(url, callback){\n",
        "  window._bokeh_onload_callbacks.push(callback);\n",
        "  if (window._bokeh_is_loading){\n",
        "      console.log(\"Bokeh: BokehJS is being loaded, scheduling callback at\", new Date());\n",
        "      return null;\n",
        "  }\n",
        "  console.log(\"Bokeh: BokehJS not loaded, scheduling load and callback at\", new Date());\n",
        "  window._bokeh_is_loading = true;\n",
        "  var s = document.createElement('script');\n",
        "  s.src = url;\n",
        "  s.async = true;\n",
        "  s.onreadystatechange = s.onload = function(){\n",
        "      Bokeh.embed.inject_css(\"http://cdn.pydata.org/bokeh-0.7.0.min.css\");\n",
        "      window._bokeh_onload_callbacks.forEach(function(callback){callback()});\n",
        "  };\n",
        "  s.onerror = function(){\n",
        "      console.warn(\"failed to load library \" + url);\n",
        "  };\n",
        "  document.getElementsByTagName(\"head\")[0].appendChild(s);\n",
        "    }\n",
        "\n",
        "    bokehjs_url = \"http://cdn.pydata.org/bokeh-0.7.0.min.js\"\n",
        "\n",
        "    var elt = document.getElementById(\"fc73a7e6-7404-4f02-cf0e-21bbb4c021ef\");\n",
        "    if(elt==null) {\n",
        "  console.log(\"Bokeh: ERROR: autoload.js configured with elementid 'fc73a7e6-7404-4f02-cf0e-21bbb4c021ef'\"\n",
        "        + \"but no matching script tag was found. \")\n",
        "  return false;\n",
        "    }\n",
        "\n",
        "    if(typeof(Bokeh) !== \"undefined\") {\n",
        "  console.log(\"Bokeh: BokehJS loaded, going straight to plotting\");\n",
        "  var modelid = \"90ac4a97-417d-4903-c98b-ed9a675d4918\";\n",
        "  var modeltype = \"Plot\";\n",
        "  var all_models = [{\"type\":\"ColumnDataSource\",\"attributes\":{\"cont_ranges\":{},\"column_names\":[\"y1\",\"x1\",\"y0\",\"x0\"],\"data\":{\"y1\":[1,0,0,0,0,0,0,0,1,0,0,3,3,2,3,6,8,8,8,12,9,7,25,14,17,27,22,29,50,41,48,51,48,51,72,82,79,92,88,71,80,75,79,76,80,66,58,74,44,50,49,59,30,41,30,25,28,18,22,19,13,13,14,11,6,9,13,9,8,4,7,3,4,3,4,5,1,2,2,1,1,1,1,0,0,2,1,0,1,1,0,0,0,0,0,0,0,0,0,1],\"x1\":[21.576,22.341472910927,23.106945821855,23.872418732782,24.63789164371,25.403364554637,26.168837465565,26.934310376492,27.69978328742,28.465256198347,29.230729109275,29.996202020202,30.761674931129,31.527147842057,32.292620752984,33.058093663912,33.823566574839,34.589039485767,35.354512396694,36.119985307622,36.885458218549,37.650931129477,38.416404040404,39.181876951331,39.947349862259,40.712822773186,41.478295684114,42.243768595041,43.009241505969,43.774714416896,44.540187327824,45.305660238751,46.071133149679,46.836606060606,47.602078971534,48.367551882461,49.133024793388,49.898497704316,50.663970615243,51.429443526171,52.194916437098,52.960389348026,53.725862258953,54.491335169881,55.256808080808,56.022280991736,56.787753902663,57.55322681359,58.318699724518,59.084172635445,59.849645546373,60.6151184573,61.380591368228,62.146064279155,62.911537190083,63.67701010101,64.442483011938,65.207955922865,65.973428833792,66.73890174472,67.504374655647,68.269847566575,69.035320477502,69.80079338843,70.566266299357,71.331739210285,72.097212121212,72.86268503214,73.628157943067,74.393630853994,75.159103764922,75.924576675849,76.690049586777,77.455522497704,78.220995408632,78.986468319559,79.751941230487,80.517414141414,81.282887052342,82.048359963269,82.813832874197,83.579305785124,84.344778696051,85.110251606979,85.875724517906,86.641197428834,87.406670339761,88.172143250689,88.937616161616,89.703089072544,90.468561983471,91.234034894399,91.999507805326,92.764980716253,93.530453627181,94.295926538108,95.061399449036,95.826872359963,96.592345270891,97.357818181818],\"y0\":[0,0,0,0,0,0,0,0,0,0,0,0,0,0,0,0,0,0,0,0,0,0,0,0,0,0,0,0,0,0,0,0,0,0,0,0,0,0,0,0,0,0,0,0,0,0,0,0,0,0,0,0,0,0,0,0,0,0,0,0,0,0,0,0,0,0,0,0,0,0,0,0,0,0,0,0,0,0,0,0,0,0,0,0,0,0,0,0,0,0,0,0,0,0,0,0,0,0,0,0],\"x0\":[20.818181818182,21.583654729109,22.349127640037,23.114600550964,23.880073461892,24.645546372819,25.411019283747,26.176492194674,26.941965105601,27.707438016529,28.472910927456,29.238383838384,30.003856749311,30.769329660239,31.534802571166,32.300275482094,33.065748393021,33.831221303949,34.596694214876,35.362167125803,36.127640036731,36.893112947658,37.658585858586,38.424058769513,39.189531680441,39.955004591368,40.720477502296,41.485950413223,42.251423324151,43.016896235078,43.782369146006,44.547842056933,45.31331496786,46.078787878788,46.844260789715,47.609733700643,48.37520661157,49.140679522498,49.906152433425,50.671625344353,51.43709825528,52.202571166208,52.968044077135,53.733516988062,54.49898989899,55.264462809917,56.029935720845,56.795408631772,57.5608815427,58.326354453627,59.091827364555,59.857300275482,60.62277318641,61.388246097337,62.153719008264,62.919191919192,63.684664830119,64.450137741047,65.215610651974,65.981083562902,66.746556473829,67.512029384757,68.277502295684,69.042975206612,69.808448117539,70.573921028466,71.339393939394,72.104866850321,72.870339761249,73.635812672176,74.401285583104,75.166758494031,75.932231404959,76.697704315886,77.463177226814,78.228650137741,78.994123048668,79.759595959596,80.525068870523,81.290541781451,82.056014692378,82.821487603306,83.586960514233,84.352433425161,85.117906336088,85.883379247016,86.648852157943,87.414325068871,88.179797979798,88.945270890725,89.710743801653,90.47621671258,91.241689623508,92.007162534435,92.772635445363,93.53810835629,94.303581267218,95.069054178145,95.834527089073,96.6]},\"selected\":[],\"tags\":[],\"doc\":null,\"discrete_ranges\":{},\"id\":\"50ab886e-2ffc-4562-c531-022fe52b2fa8\"},\"id\":\"50ab886e-2ffc-4562-c531-022fe52b2fa8\"},{\"type\":\"Quad\",\"attributes\":{\"right\":{\"units\":\"data\",\"field\":\"x1\"},\"bottom\":{\"units\":\"data\",\"field\":\"y0\"},\"id\":\"22748664-18c5-491a-c983-aa6519a2cf3d\",\"doc\":null,\"fill_color\":{\"value\":\"red\"},\"left\":{\"units\":\"data\",\"field\":\"x0\"},\"fill_alpha\":{\"units\":\"data\",\"value\":0.7},\"line_alpha\":{\"units\":\"data\",\"value\":1},\"tags\":[],\"line_color\":{\"value\":\"red\"},\"top\":{\"units\":\"data\",\"field\":\"y1\"}},\"id\":\"22748664-18c5-491a-c983-aa6519a2cf3d\"},{\"type\":\"Quad\",\"attributes\":{\"right\":{\"units\":\"data\",\"field\":\"x1\"},\"bottom\":{\"units\":\"data\",\"field\":\"y0\"},\"id\":\"dfc5d210-21c2-4941-c9e8-e315d3e43f11\",\"doc\":null,\"fill_color\":{\"value\":\"red\"},\"left\":{\"units\":\"data\",\"field\":\"x0\"},\"fill_alpha\":{\"units\":\"data\",\"value\":0.7},\"line_alpha\":{\"units\":\"data\",\"value\":1},\"tags\":[],\"line_color\":{\"value\":\"red\"},\"top\":{\"units\":\"data\",\"field\":\"y1\"}},\"id\":\"dfc5d210-21c2-4941-c9e8-e315d3e43f11\"},{\"type\":\"GlyphRenderer\",\"attributes\":{\"data_source\":{\"type\":\"ColumnDataSource\",\"id\":\"50ab886e-2ffc-4562-c531-022fe52b2fa8\"},\"id\":\"dbcc3eaa-b727-47b6-c720-42663355dce0\",\"server_data_source\":null,\"doc\":null,\"nonselection_glyph\":{\"type\":\"Quad\",\"id\":\"dfc5d210-21c2-4941-c9e8-e315d3e43f11\"},\"glyph\":{\"type\":\"Quad\",\"id\":\"22748664-18c5-491a-c983-aa6519a2cf3d\"},\"tags\":[],\"name\":null,\"selection_glyph\":null},\"id\":\"dbcc3eaa-b727-47b6-c720-42663355dce0\"},{\"type\":\"DataRange1d\",\"attributes\":{\"tags\":[],\"doc\":null,\"sources\":[{\"source\":{\"type\":\"ColumnDataSource\",\"id\":\"50ab886e-2ffc-4562-c531-022fe52b2fa8\"},\"columns\":[\"x1\",\"x0\"]}],\"id\":\"5009ef23-82c9-4a61-ca83-74682f17fda2\"},\"id\":\"5009ef23-82c9-4a61-ca83-74682f17fda2\"},{\"type\":\"DataRange1d\",\"attributes\":{\"tags\":[],\"doc\":null,\"sources\":[{\"source\":{\"type\":\"ColumnDataSource\",\"id\":\"50ab886e-2ffc-4562-c531-022fe52b2fa8\"},\"columns\":[\"y1\",\"y0\"]}],\"id\":\"cb31dc76-94d6-465b-c6f7-be2f9280a00e\"},\"id\":\"cb31dc76-94d6-465b-c6f7-be2f9280a00e\"},{\"type\":\"ToolEvents\",\"attributes\":{\"tags\":[],\"doc\":null,\"geometries\":[],\"id\":\"2ce6d563-645b-437e-c3e5-955c0880629e\"},\"id\":\"2ce6d563-645b-437e-c3e5-955c0880629e\"},{\"type\":\"BasicTickFormatter\",\"attributes\":{\"tags\":[],\"doc\":null,\"id\":\"ae9bdc2a-8636-481f-c89f-c93e65dd2be2\"},\"id\":\"ae9bdc2a-8636-481f-c89f-c93e65dd2be2\"},{\"type\":\"BasicTicker\",\"attributes\":{\"tags\":[],\"doc\":null,\"num_minor_ticks\":5,\"id\":\"6ea307e2-93aa-4cdd-cc53-0fe234bdd645\"},\"id\":\"6ea307e2-93aa-4cdd-cc53-0fe234bdd645\"},{\"type\":\"LinearAxis\",\"attributes\":{\"plot\":{\"type\":\"Plot\",\"subtype\":\"Figure\",\"id\":\"90ac4a97-417d-4903-c98b-ed9a675d4918\"},\"ticker\":{\"type\":\"BasicTicker\",\"id\":\"6ea307e2-93aa-4cdd-cc53-0fe234bdd645\"},\"id\":\"16ca4d4e-69df-4fa1-cf2a-9b4b1287e209\",\"tags\":[],\"doc\":null,\"formatter\":{\"type\":\"BasicTickFormatter\",\"id\":\"ae9bdc2a-8636-481f-c89f-c93e65dd2be2\"},\"axis_label\":null},\"id\":\"16ca4d4e-69df-4fa1-cf2a-9b4b1287e209\"},{\"type\":\"Grid\",\"attributes\":{\"plot\":{\"type\":\"Plot\",\"subtype\":\"Figure\",\"id\":\"90ac4a97-417d-4903-c98b-ed9a675d4918\"},\"id\":\"bc15cc70-ce9e-41f7-c15e-cf43818825f6\",\"tags\":[],\"doc\":null,\"ticker\":{\"type\":\"BasicTicker\",\"id\":\"6ea307e2-93aa-4cdd-cc53-0fe234bdd645\"},\"dimension\":0},\"id\":\"bc15cc70-ce9e-41f7-c15e-cf43818825f6\"},{\"type\":\"BasicTickFormatter\",\"attributes\":{\"tags\":[],\"doc\":null,\"id\":\"f58a716c-0919-4ed1-ce81-4532f5591c71\"},\"id\":\"f58a716c-0919-4ed1-ce81-4532f5591c71\"},{\"type\":\"BasicTicker\",\"attributes\":{\"tags\":[],\"doc\":null,\"num_minor_ticks\":5,\"id\":\"7d0e3034-00f9-433f-c303-8ee9f15f43eb\"},\"id\":\"7d0e3034-00f9-433f-c303-8ee9f15f43eb\"},{\"type\":\"LinearAxis\",\"attributes\":{\"plot\":{\"type\":\"Plot\",\"subtype\":\"Figure\",\"id\":\"90ac4a97-417d-4903-c98b-ed9a675d4918\"},\"ticker\":{\"type\":\"BasicTicker\",\"id\":\"7d0e3034-00f9-433f-c303-8ee9f15f43eb\"},\"id\":\"3f6751a2-733b-4934-c931-1d1d86374e94\",\"tags\":[],\"doc\":null,\"formatter\":{\"type\":\"BasicTickFormatter\",\"id\":\"f58a716c-0919-4ed1-ce81-4532f5591c71\"},\"axis_label\":null},\"id\":\"3f6751a2-733b-4934-c931-1d1d86374e94\"},{\"type\":\"Grid\",\"attributes\":{\"plot\":{\"type\":\"Plot\",\"subtype\":\"Figure\",\"id\":\"90ac4a97-417d-4903-c98b-ed9a675d4918\"},\"id\":\"916b9db1-7745-489e-c89f-1f690cc20823\",\"tags\":[],\"doc\":null,\"ticker\":{\"type\":\"BasicTicker\",\"id\":\"7d0e3034-00f9-433f-c303-8ee9f15f43eb\"},\"dimension\":1},\"id\":\"916b9db1-7745-489e-c89f-1f690cc20823\"},{\"type\":\"PanTool\",\"attributes\":{\"plot\":{\"type\":\"Plot\",\"subtype\":\"Figure\",\"id\":\"90ac4a97-417d-4903-c98b-ed9a675d4918\"},\"id\":\"1abaa17f-bd72-4876-c83c-1f031df8990d\",\"tags\":[],\"doc\":null,\"dimensions\":[\"width\",\"height\"]},\"id\":\"1abaa17f-bd72-4876-c83c-1f031df8990d\"},{\"type\":\"WheelZoomTool\",\"attributes\":{\"plot\":{\"type\":\"Plot\",\"subtype\":\"Figure\",\"id\":\"90ac4a97-417d-4903-c98b-ed9a675d4918\"},\"id\":\"6b9474d1-8d60-4850-c806-e7a23f5fff7f\",\"tags\":[],\"doc\":null,\"dimensions\":[\"width\",\"height\"]},\"id\":\"6b9474d1-8d60-4850-c806-e7a23f5fff7f\"},{\"type\":\"BoxZoomTool\",\"attributes\":{\"tags\":[],\"doc\":null,\"plot\":{\"type\":\"Plot\",\"subtype\":\"Figure\",\"id\":\"90ac4a97-417d-4903-c98b-ed9a675d4918\"},\"id\":\"a49f8f88-172c-43fc-c36e-1e4be944b303\"},\"id\":\"a49f8f88-172c-43fc-c36e-1e4be944b303\"},{\"type\":\"PreviewSaveTool\",\"attributes\":{\"tags\":[],\"doc\":null,\"plot\":{\"type\":\"Plot\",\"subtype\":\"Figure\",\"id\":\"90ac4a97-417d-4903-c98b-ed9a675d4918\"},\"id\":\"4c92973d-d7fe-41e5-c1dd-b80d028b6905\"},\"id\":\"4c92973d-d7fe-41e5-c1dd-b80d028b6905\"},{\"type\":\"ResizeTool\",\"attributes\":{\"tags\":[],\"doc\":null,\"plot\":{\"type\":\"Plot\",\"subtype\":\"Figure\",\"id\":\"90ac4a97-417d-4903-c98b-ed9a675d4918\"},\"id\":\"c1b533d8-3c18-4cdd-cc47-403647fe1018\"},\"id\":\"c1b533d8-3c18-4cdd-cc47-403647fe1018\"},{\"type\":\"ResetTool\",\"attributes\":{\"tags\":[],\"doc\":null,\"plot\":{\"type\":\"Plot\",\"subtype\":\"Figure\",\"id\":\"90ac4a97-417d-4903-c98b-ed9a675d4918\"},\"id\":\"f7004df0-ddf7-4d03-cdb8-4fa1de6e3bcf\"},\"id\":\"f7004df0-ddf7-4d03-cdb8-4fa1de6e3bcf\"},{\"type\":\"Plot\",\"attributes\":{\"right\":[],\"extra_y_ranges\":{},\"x_range\":{\"type\":\"DataRange1d\",\"id\":\"5009ef23-82c9-4a61-ca83-74682f17fda2\"},\"id\":\"90ac4a97-417d-4903-c98b-ed9a675d4918\",\"doc\":null,\"title\":\"ABPd-0->24-mean\",\"renderers\":[{\"type\":\"GlyphRenderer\",\"id\":\"dbcc3eaa-b727-47b6-c720-42663355dce0\"},{\"type\":\"LinearAxis\",\"id\":\"16ca4d4e-69df-4fa1-cf2a-9b4b1287e209\"},{\"type\":\"Grid\",\"id\":\"bc15cc70-ce9e-41f7-c15e-cf43818825f6\"},{\"type\":\"LinearAxis\",\"id\":\"3f6751a2-733b-4934-c931-1d1d86374e94\"},{\"type\":\"Grid\",\"id\":\"916b9db1-7745-489e-c89f-1f690cc20823\"}],\"tools\":[{\"type\":\"PanTool\",\"id\":\"1abaa17f-bd72-4876-c83c-1f031df8990d\"},{\"type\":\"WheelZoomTool\",\"id\":\"6b9474d1-8d60-4850-c806-e7a23f5fff7f\"},{\"type\":\"BoxZoomTool\",\"id\":\"a49f8f88-172c-43fc-c36e-1e4be944b303\"},{\"type\":\"PreviewSaveTool\",\"id\":\"4c92973d-d7fe-41e5-c1dd-b80d028b6905\"},{\"type\":\"ResizeTool\",\"id\":\"c1b533d8-3c18-4cdd-cc47-403647fe1018\"},{\"type\":\"ResetTool\",\"id\":\"f7004df0-ddf7-4d03-cdb8-4fa1de6e3bcf\"}],\"left\":[{\"type\":\"LinearAxis\",\"id\":\"3f6751a2-733b-4934-c931-1d1d86374e94\"}],\"above\":[],\"extra_x_ranges\":{},\"tags\":[],\"tool_events\":{\"type\":\"ToolEvents\",\"id\":\"2ce6d563-645b-437e-c3e5-955c0880629e\"},\"y_range\":{\"type\":\"DataRange1d\",\"id\":\"cb31dc76-94d6-465b-c6f7-be2f9280a00e\"},\"below\":[{\"type\":\"LinearAxis\",\"id\":\"16ca4d4e-69df-4fa1-cf2a-9b4b1287e209\"}]},\"id\":\"90ac4a97-417d-4903-c98b-ed9a675d4918\"}];\n",
        "  Bokeh.load_models(all_models);\n",
        "  var model = Bokeh.Collections(modeltype).get(modelid);\n",
        "  $(\"#fc73a7e6-7404-4f02-cf0e-21bbb4c021ef\").html(''); // clear any previous plot in window_id\n",
        "  var view = new model.default_view({model: model, el: \"#fc73a7e6-7404-4f02-cf0e-21bbb4c021ef\"});\n",
        "    } else {\n",
        "  load_lib(bokehjs_url, function() {\n",
        "      console.log(\"Bokeh: BokehJS plotting callback run at\", new Date())\n",
        "      var modelid = \"90ac4a97-417d-4903-c98b-ed9a675d4918\";\n",
        "      var modeltype = \"Plot\";\n",
        "      var all_models = [{\"type\":\"ColumnDataSource\",\"attributes\":{\"cont_ranges\":{},\"column_names\":[\"y1\",\"x1\",\"y0\",\"x0\"],\"data\":{\"y1\":[1,0,0,0,0,0,0,0,1,0,0,3,3,2,3,6,8,8,8,12,9,7,25,14,17,27,22,29,50,41,48,51,48,51,72,82,79,92,88,71,80,75,79,76,80,66,58,74,44,50,49,59,30,41,30,25,28,18,22,19,13,13,14,11,6,9,13,9,8,4,7,3,4,3,4,5,1,2,2,1,1,1,1,0,0,2,1,0,1,1,0,0,0,0,0,0,0,0,0,1],\"x1\":[21.576,22.341472910927,23.106945821855,23.872418732782,24.63789164371,25.403364554637,26.168837465565,26.934310376492,27.69978328742,28.465256198347,29.230729109275,29.996202020202,30.761674931129,31.527147842057,32.292620752984,33.058093663912,33.823566574839,34.589039485767,35.354512396694,36.119985307622,36.885458218549,37.650931129477,38.416404040404,39.181876951331,39.947349862259,40.712822773186,41.478295684114,42.243768595041,43.009241505969,43.774714416896,44.540187327824,45.305660238751,46.071133149679,46.836606060606,47.602078971534,48.367551882461,49.133024793388,49.898497704316,50.663970615243,51.429443526171,52.194916437098,52.960389348026,53.725862258953,54.491335169881,55.256808080808,56.022280991736,56.787753902663,57.55322681359,58.318699724518,59.084172635445,59.849645546373,60.6151184573,61.380591368228,62.146064279155,62.911537190083,63.67701010101,64.442483011938,65.207955922865,65.973428833792,66.73890174472,67.504374655647,68.269847566575,69.035320477502,69.80079338843,70.566266299357,71.331739210285,72.097212121212,72.86268503214,73.628157943067,74.393630853994,75.159103764922,75.924576675849,76.690049586777,77.455522497704,78.220995408632,78.986468319559,79.751941230487,80.517414141414,81.282887052342,82.048359963269,82.813832874197,83.579305785124,84.344778696051,85.110251606979,85.875724517906,86.641197428834,87.406670339761,88.172143250689,88.937616161616,89.703089072544,90.468561983471,91.234034894399,91.999507805326,92.764980716253,93.530453627181,94.295926538108,95.061399449036,95.826872359963,96.592345270891,97.357818181818],\"y0\":[0,0,0,0,0,0,0,0,0,0,0,0,0,0,0,0,0,0,0,0,0,0,0,0,0,0,0,0,0,0,0,0,0,0,0,0,0,0,0,0,0,0,0,0,0,0,0,0,0,0,0,0,0,0,0,0,0,0,0,0,0,0,0,0,0,0,0,0,0,0,0,0,0,0,0,0,0,0,0,0,0,0,0,0,0,0,0,0,0,0,0,0,0,0,0,0,0,0,0,0],\"x0\":[20.818181818182,21.583654729109,22.349127640037,23.114600550964,23.880073461892,24.645546372819,25.411019283747,26.176492194674,26.941965105601,27.707438016529,28.472910927456,29.238383838384,30.003856749311,30.769329660239,31.534802571166,32.300275482094,33.065748393021,33.831221303949,34.596694214876,35.362167125803,36.127640036731,36.893112947658,37.658585858586,38.424058769513,39.189531680441,39.955004591368,40.720477502296,41.485950413223,42.251423324151,43.016896235078,43.782369146006,44.547842056933,45.31331496786,46.078787878788,46.844260789715,47.609733700643,48.37520661157,49.140679522498,49.906152433425,50.671625344353,51.43709825528,52.202571166208,52.968044077135,53.733516988062,54.49898989899,55.264462809917,56.029935720845,56.795408631772,57.5608815427,58.326354453627,59.091827364555,59.857300275482,60.62277318641,61.388246097337,62.153719008264,62.919191919192,63.684664830119,64.450137741047,65.215610651974,65.981083562902,66.746556473829,67.512029384757,68.277502295684,69.042975206612,69.808448117539,70.573921028466,71.339393939394,72.104866850321,72.870339761249,73.635812672176,74.401285583104,75.166758494031,75.932231404959,76.697704315886,77.463177226814,78.228650137741,78.994123048668,79.759595959596,80.525068870523,81.290541781451,82.056014692378,82.821487603306,83.586960514233,84.352433425161,85.117906336088,85.883379247016,86.648852157943,87.414325068871,88.179797979798,88.945270890725,89.710743801653,90.47621671258,91.241689623508,92.007162534435,92.772635445363,93.53810835629,94.303581267218,95.069054178145,95.834527089073,96.6]},\"selected\":[],\"tags\":[],\"doc\":null,\"discrete_ranges\":{},\"id\":\"50ab886e-2ffc-4562-c531-022fe52b2fa8\"},\"id\":\"50ab886e-2ffc-4562-c531-022fe52b2fa8\"},{\"type\":\"Quad\",\"attributes\":{\"right\":{\"units\":\"data\",\"field\":\"x1\"},\"bottom\":{\"units\":\"data\",\"field\":\"y0\"},\"id\":\"22748664-18c5-491a-c983-aa6519a2cf3d\",\"doc\":null,\"fill_color\":{\"value\":\"red\"},\"left\":{\"units\":\"data\",\"field\":\"x0\"},\"fill_alpha\":{\"units\":\"data\",\"value\":0.7},\"line_alpha\":{\"units\":\"data\",\"value\":1},\"tags\":[],\"line_color\":{\"value\":\"red\"},\"top\":{\"units\":\"data\",\"field\":\"y1\"}},\"id\":\"22748664-18c5-491a-c983-aa6519a2cf3d\"},{\"type\":\"Quad\",\"attributes\":{\"right\":{\"units\":\"data\",\"field\":\"x1\"},\"bottom\":{\"units\":\"data\",\"field\":\"y0\"},\"id\":\"dfc5d210-21c2-4941-c9e8-e315d3e43f11\",\"doc\":null,\"fill_color\":{\"value\":\"red\"},\"left\":{\"units\":\"data\",\"field\":\"x0\"},\"fill_alpha\":{\"units\":\"data\",\"value\":0.7},\"line_alpha\":{\"units\":\"data\",\"value\":1},\"tags\":[],\"line_color\":{\"value\":\"red\"},\"top\":{\"units\":\"data\",\"field\":\"y1\"}},\"id\":\"dfc5d210-21c2-4941-c9e8-e315d3e43f11\"},{\"type\":\"GlyphRenderer\",\"attributes\":{\"data_source\":{\"type\":\"ColumnDataSource\",\"id\":\"50ab886e-2ffc-4562-c531-022fe52b2fa8\"},\"id\":\"dbcc3eaa-b727-47b6-c720-42663355dce0\",\"server_data_source\":null,\"doc\":null,\"nonselection_glyph\":{\"type\":\"Quad\",\"id\":\"dfc5d210-21c2-4941-c9e8-e315d3e43f11\"},\"glyph\":{\"type\":\"Quad\",\"id\":\"22748664-18c5-491a-c983-aa6519a2cf3d\"},\"tags\":[],\"name\":null,\"selection_glyph\":null},\"id\":\"dbcc3eaa-b727-47b6-c720-42663355dce0\"},{\"type\":\"DataRange1d\",\"attributes\":{\"tags\":[],\"doc\":null,\"sources\":[{\"source\":{\"type\":\"ColumnDataSource\",\"id\":\"50ab886e-2ffc-4562-c531-022fe52b2fa8\"},\"columns\":[\"x1\",\"x0\"]}],\"id\":\"5009ef23-82c9-4a61-ca83-74682f17fda2\"},\"id\":\"5009ef23-82c9-4a61-ca83-74682f17fda2\"},{\"type\":\"DataRange1d\",\"attributes\":{\"tags\":[],\"doc\":null,\"sources\":[{\"source\":{\"type\":\"ColumnDataSource\",\"id\":\"50ab886e-2ffc-4562-c531-022fe52b2fa8\"},\"columns\":[\"y1\",\"y0\"]}],\"id\":\"cb31dc76-94d6-465b-c6f7-be2f9280a00e\"},\"id\":\"cb31dc76-94d6-465b-c6f7-be2f9280a00e\"},{\"type\":\"ToolEvents\",\"attributes\":{\"tags\":[],\"doc\":null,\"geometries\":[],\"id\":\"2ce6d563-645b-437e-c3e5-955c0880629e\"},\"id\":\"2ce6d563-645b-437e-c3e5-955c0880629e\"},{\"type\":\"BasicTickFormatter\",\"attributes\":{\"tags\":[],\"doc\":null,\"id\":\"ae9bdc2a-8636-481f-c89f-c93e65dd2be2\"},\"id\":\"ae9bdc2a-8636-481f-c89f-c93e65dd2be2\"},{\"type\":\"BasicTicker\",\"attributes\":{\"tags\":[],\"doc\":null,\"num_minor_ticks\":5,\"id\":\"6ea307e2-93aa-4cdd-cc53-0fe234bdd645\"},\"id\":\"6ea307e2-93aa-4cdd-cc53-0fe234bdd645\"},{\"type\":\"LinearAxis\",\"attributes\":{\"plot\":{\"type\":\"Plot\",\"subtype\":\"Figure\",\"id\":\"90ac4a97-417d-4903-c98b-ed9a675d4918\"},\"ticker\":{\"type\":\"BasicTicker\",\"id\":\"6ea307e2-93aa-4cdd-cc53-0fe234bdd645\"},\"id\":\"16ca4d4e-69df-4fa1-cf2a-9b4b1287e209\",\"tags\":[],\"doc\":null,\"formatter\":{\"type\":\"BasicTickFormatter\",\"id\":\"ae9bdc2a-8636-481f-c89f-c93e65dd2be2\"},\"axis_label\":null},\"id\":\"16ca4d4e-69df-4fa1-cf2a-9b4b1287e209\"},{\"type\":\"Grid\",\"attributes\":{\"plot\":{\"type\":\"Plot\",\"subtype\":\"Figure\",\"id\":\"90ac4a97-417d-4903-c98b-ed9a675d4918\"},\"id\":\"bc15cc70-ce9e-41f7-c15e-cf43818825f6\",\"tags\":[],\"doc\":null,\"ticker\":{\"type\":\"BasicTicker\",\"id\":\"6ea307e2-93aa-4cdd-cc53-0fe234bdd645\"},\"dimension\":0},\"id\":\"bc15cc70-ce9e-41f7-c15e-cf43818825f6\"},{\"type\":\"BasicTickFormatter\",\"attributes\":{\"tags\":[],\"doc\":null,\"id\":\"f58a716c-0919-4ed1-ce81-4532f5591c71\"},\"id\":\"f58a716c-0919-4ed1-ce81-4532f5591c71\"},{\"type\":\"BasicTicker\",\"attributes\":{\"tags\":[],\"doc\":null,\"num_minor_ticks\":5,\"id\":\"7d0e3034-00f9-433f-c303-8ee9f15f43eb\"},\"id\":\"7d0e3034-00f9-433f-c303-8ee9f15f43eb\"},{\"type\":\"LinearAxis\",\"attributes\":{\"plot\":{\"type\":\"Plot\",\"subtype\":\"Figure\",\"id\":\"90ac4a97-417d-4903-c98b-ed9a675d4918\"},\"ticker\":{\"type\":\"BasicTicker\",\"id\":\"7d0e3034-00f9-433f-c303-8ee9f15f43eb\"},\"id\":\"3f6751a2-733b-4934-c931-1d1d86374e94\",\"tags\":[],\"doc\":null,\"formatter\":{\"type\":\"BasicTickFormatter\",\"id\":\"f58a716c-0919-4ed1-ce81-4532f5591c71\"},\"axis_label\":null},\"id\":\"3f6751a2-733b-4934-c931-1d1d86374e94\"},{\"type\":\"Grid\",\"attributes\":{\"plot\":{\"type\":\"Plot\",\"subtype\":\"Figure\",\"id\":\"90ac4a97-417d-4903-c98b-ed9a675d4918\"},\"id\":\"916b9db1-7745-489e-c89f-1f690cc20823\",\"tags\":[],\"doc\":null,\"ticker\":{\"type\":\"BasicTicker\",\"id\":\"7d0e3034-00f9-433f-c303-8ee9f15f43eb\"},\"dimension\":1},\"id\":\"916b9db1-7745-489e-c89f-1f690cc20823\"},{\"type\":\"PanTool\",\"attributes\":{\"plot\":{\"type\":\"Plot\",\"subtype\":\"Figure\",\"id\":\"90ac4a97-417d-4903-c98b-ed9a675d4918\"},\"id\":\"1abaa17f-bd72-4876-c83c-1f031df8990d\",\"tags\":[],\"doc\":null,\"dimensions\":[\"width\",\"height\"]},\"id\":\"1abaa17f-bd72-4876-c83c-1f031df8990d\"},{\"type\":\"WheelZoomTool\",\"attributes\":{\"plot\":{\"type\":\"Plot\",\"subtype\":\"Figure\",\"id\":\"90ac4a97-417d-4903-c98b-ed9a675d4918\"},\"id\":\"6b9474d1-8d60-4850-c806-e7a23f5fff7f\",\"tags\":[],\"doc\":null,\"dimensions\":[\"width\",\"height\"]},\"id\":\"6b9474d1-8d60-4850-c806-e7a23f5fff7f\"},{\"type\":\"BoxZoomTool\",\"attributes\":{\"tags\":[],\"doc\":null,\"plot\":{\"type\":\"Plot\",\"subtype\":\"Figure\",\"id\":\"90ac4a97-417d-4903-c98b-ed9a675d4918\"},\"id\":\"a49f8f88-172c-43fc-c36e-1e4be944b303\"},\"id\":\"a49f8f88-172c-43fc-c36e-1e4be944b303\"},{\"type\":\"PreviewSaveTool\",\"attributes\":{\"tags\":[],\"doc\":null,\"plot\":{\"type\":\"Plot\",\"subtype\":\"Figure\",\"id\":\"90ac4a97-417d-4903-c98b-ed9a675d4918\"},\"id\":\"4c92973d-d7fe-41e5-c1dd-b80d028b6905\"},\"id\":\"4c92973d-d7fe-41e5-c1dd-b80d028b6905\"},{\"type\":\"ResizeTool\",\"attributes\":{\"tags\":[],\"doc\":null,\"plot\":{\"type\":\"Plot\",\"subtype\":\"Figure\",\"id\":\"90ac4a97-417d-4903-c98b-ed9a675d4918\"},\"id\":\"c1b533d8-3c18-4cdd-cc47-403647fe1018\"},\"id\":\"c1b533d8-3c18-4cdd-cc47-403647fe1018\"},{\"type\":\"ResetTool\",\"attributes\":{\"tags\":[],\"doc\":null,\"plot\":{\"type\":\"Plot\",\"subtype\":\"Figure\",\"id\":\"90ac4a97-417d-4903-c98b-ed9a675d4918\"},\"id\":\"f7004df0-ddf7-4d03-cdb8-4fa1de6e3bcf\"},\"id\":\"f7004df0-ddf7-4d03-cdb8-4fa1de6e3bcf\"},{\"type\":\"Plot\",\"attributes\":{\"right\":[],\"extra_y_ranges\":{},\"x_range\":{\"type\":\"DataRange1d\",\"id\":\"5009ef23-82c9-4a61-ca83-74682f17fda2\"},\"id\":\"90ac4a97-417d-4903-c98b-ed9a675d4918\",\"doc\":null,\"title\":\"ABPd-0->24-mean\",\"renderers\":[{\"type\":\"GlyphRenderer\",\"id\":\"dbcc3eaa-b727-47b6-c720-42663355dce0\"},{\"type\":\"LinearAxis\",\"id\":\"16ca4d4e-69df-4fa1-cf2a-9b4b1287e209\"},{\"type\":\"Grid\",\"id\":\"bc15cc70-ce9e-41f7-c15e-cf43818825f6\"},{\"type\":\"LinearAxis\",\"id\":\"3f6751a2-733b-4934-c931-1d1d86374e94\"},{\"type\":\"Grid\",\"id\":\"916b9db1-7745-489e-c89f-1f690cc20823\"}],\"tools\":[{\"type\":\"PanTool\",\"id\":\"1abaa17f-bd72-4876-c83c-1f031df8990d\"},{\"type\":\"WheelZoomTool\",\"id\":\"6b9474d1-8d60-4850-c806-e7a23f5fff7f\"},{\"type\":\"BoxZoomTool\",\"id\":\"a49f8f88-172c-43fc-c36e-1e4be944b303\"},{\"type\":\"PreviewSaveTool\",\"id\":\"4c92973d-d7fe-41e5-c1dd-b80d028b6905\"},{\"type\":\"ResizeTool\",\"id\":\"c1b533d8-3c18-4cdd-cc47-403647fe1018\"},{\"type\":\"ResetTool\",\"id\":\"f7004df0-ddf7-4d03-cdb8-4fa1de6e3bcf\"}],\"left\":[{\"type\":\"LinearAxis\",\"id\":\"3f6751a2-733b-4934-c931-1d1d86374e94\"}],\"above\":[],\"extra_x_ranges\":{},\"tags\":[],\"tool_events\":{\"type\":\"ToolEvents\",\"id\":\"2ce6d563-645b-437e-c3e5-955c0880629e\"},\"y_range\":{\"type\":\"DataRange1d\",\"id\":\"cb31dc76-94d6-465b-c6f7-be2f9280a00e\"},\"below\":[{\"type\":\"LinearAxis\",\"id\":\"16ca4d4e-69df-4fa1-cf2a-9b4b1287e209\"}]},\"id\":\"90ac4a97-417d-4903-c98b-ed9a675d4918\"}];\n",
        "      Bokeh.load_models(all_models);\n",
        "      var model = Bokeh.Collections(modeltype).get(modelid);\n",
        "      $(\"#fc73a7e6-7404-4f02-cf0e-21bbb4c021ef\").html(''); // clear any previous plot in window_id\n",
        "      var view = new model.default_view({model: model, el: \"#fc73a7e6-7404-4f02-cf0e-21bbb4c021ef\"});\n",
        "  });\n",
        "    }\n",
        "});\n",
        "</script>\n",
        "<div class=\"plotdiv\" id=\"fc73a7e6-7404-4f02-cf0e-21bbb4c021ef\"></div>\n"
       ],
       "metadata": {},
       "output_type": "display_data"
      },
      {
       "html": [
        "<script type=\"text/javascript\">\n",
        "$(function() {\n",
        "    if (typeof (window._bokeh_onload_callbacks) === \"undefined\"){\n",
        "  window._bokeh_onload_callbacks = [];\n",
        "    }\n",
        "    function load_lib(url, callback){\n",
        "  window._bokeh_onload_callbacks.push(callback);\n",
        "  if (window._bokeh_is_loading){\n",
        "      console.log(\"Bokeh: BokehJS is being loaded, scheduling callback at\", new Date());\n",
        "      return null;\n",
        "  }\n",
        "  console.log(\"Bokeh: BokehJS not loaded, scheduling load and callback at\", new Date());\n",
        "  window._bokeh_is_loading = true;\n",
        "  var s = document.createElement('script');\n",
        "  s.src = url;\n",
        "  s.async = true;\n",
        "  s.onreadystatechange = s.onload = function(){\n",
        "      Bokeh.embed.inject_css(\"http://cdn.pydata.org/bokeh-0.7.0.min.css\");\n",
        "      window._bokeh_onload_callbacks.forEach(function(callback){callback()});\n",
        "  };\n",
        "  s.onerror = function(){\n",
        "      console.warn(\"failed to load library \" + url);\n",
        "  };\n",
        "  document.getElementsByTagName(\"head\")[0].appendChild(s);\n",
        "    }\n",
        "\n",
        "    bokehjs_url = \"http://cdn.pydata.org/bokeh-0.7.0.min.js\"\n",
        "\n",
        "    var elt = document.getElementById(\"fc73a7e6-7404-4f02-cf0e-21bbb4c021ef\");\n",
        "    if(elt==null) {\n",
        "  console.log(\"Bokeh: ERROR: autoload.js configured with elementid 'fc73a7e6-7404-4f02-cf0e-21bbb4c021ef'\"\n",
        "        + \"but no matching script tag was found. \")\n",
        "  return false;\n",
        "    }\n",
        "\n",
        "    if(typeof(Bokeh) !== \"undefined\") {\n",
        "  console.log(\"Bokeh: BokehJS loaded, going straight to plotting\");\n",
        "  var modelid = \"4790005a-184c-44cd-c430-d44d8e4487c9\";\n",
        "  var modeltype = \"Plot\";\n",
        "  var all_models = [{\"type\":\"ColumnDataSource\",\"attributes\":{\"cont_ranges\":{},\"column_names\":[\"y1\",\"x1\",\"y0\",\"x0\"],\"data\":{\"y1\":[1,0,0,0,0,0,0,0,1,0,0,3,3,2,3,6,8,8,8,12,9,7,25,14,17,27,22,29,50,41,48,51,48,51,72,82,79,92,88,71,80,75,79,76,80,66,58,74,44,50,49,59,30,41,30,25,28,18,22,19,13,13,14,11,6,9,13,9,8,4,7,3,4,3,4,5,1,2,2,1,1,1,1,0,0,2,1,0,1,1,0,0,0,0,0,0,0,0,0,1],\"x1\":[21.576,22.341472910927,23.106945821855,23.872418732782,24.63789164371,25.403364554637,26.168837465565,26.934310376492,27.69978328742,28.465256198347,29.230729109275,29.996202020202,30.761674931129,31.527147842057,32.292620752984,33.058093663912,33.823566574839,34.589039485767,35.354512396694,36.119985307622,36.885458218549,37.650931129477,38.416404040404,39.181876951331,39.947349862259,40.712822773186,41.478295684114,42.243768595041,43.009241505969,43.774714416896,44.540187327824,45.305660238751,46.071133149679,46.836606060606,47.602078971534,48.367551882461,49.133024793388,49.898497704316,50.663970615243,51.429443526171,52.194916437098,52.960389348026,53.725862258953,54.491335169881,55.256808080808,56.022280991736,56.787753902663,57.55322681359,58.318699724518,59.084172635445,59.849645546373,60.6151184573,61.380591368228,62.146064279155,62.911537190083,63.67701010101,64.442483011938,65.207955922865,65.973428833792,66.73890174472,67.504374655647,68.269847566575,69.035320477502,69.80079338843,70.566266299357,71.331739210285,72.097212121212,72.86268503214,73.628157943067,74.393630853994,75.159103764922,75.924576675849,76.690049586777,77.455522497704,78.220995408632,78.986468319559,79.751941230487,80.517414141414,81.282887052342,82.048359963269,82.813832874197,83.579305785124,84.344778696051,85.110251606979,85.875724517906,86.641197428834,87.406670339761,88.172143250689,88.937616161616,89.703089072544,90.468561983471,91.234034894399,91.999507805326,92.764980716253,93.530453627181,94.295926538108,95.061399449036,95.826872359963,96.592345270891,97.357818181818],\"y0\":[0,0,0,0,0,0,0,0,0,0,0,0,0,0,0,0,0,0,0,0,0,0,0,0,0,0,0,0,0,0,0,0,0,0,0,0,0,0,0,0,0,0,0,0,0,0,0,0,0,0,0,0,0,0,0,0,0,0,0,0,0,0,0,0,0,0,0,0,0,0,0,0,0,0,0,0,0,0,0,0,0,0,0,0,0,0,0,0,0,0,0,0,0,0,0,0,0,0,0,0],\"x0\":[20.818181818182,21.583654729109,22.349127640037,23.114600550964,23.880073461892,24.645546372819,25.411019283747,26.176492194674,26.941965105601,27.707438016529,28.472910927456,29.238383838384,30.003856749311,30.769329660239,31.534802571166,32.300275482094,33.065748393021,33.831221303949,34.596694214876,35.362167125803,36.127640036731,36.893112947658,37.658585858586,38.424058769513,39.189531680441,39.955004591368,40.720477502296,41.485950413223,42.251423324151,43.016896235078,43.782369146006,44.547842056933,45.31331496786,46.078787878788,46.844260789715,47.609733700643,48.37520661157,49.140679522498,49.906152433425,50.671625344353,51.43709825528,52.202571166208,52.968044077135,53.733516988062,54.49898989899,55.264462809917,56.029935720845,56.795408631772,57.5608815427,58.326354453627,59.091827364555,59.857300275482,60.62277318641,61.388246097337,62.153719008264,62.919191919192,63.684664830119,64.450137741047,65.215610651974,65.981083562902,66.746556473829,67.512029384757,68.277502295684,69.042975206612,69.808448117539,70.573921028466,71.339393939394,72.104866850321,72.870339761249,73.635812672176,74.401285583104,75.166758494031,75.932231404959,76.697704315886,77.463177226814,78.228650137741,78.994123048668,79.759595959596,80.525068870523,81.290541781451,82.056014692378,82.821487603306,83.586960514233,84.352433425161,85.117906336088,85.883379247016,86.648852157943,87.414325068871,88.179797979798,88.945270890725,89.710743801653,90.47621671258,91.241689623508,92.007162534435,92.772635445363,93.53810835629,94.303581267218,95.069054178145,95.834527089073,96.6]},\"selected\":[],\"tags\":[],\"doc\":null,\"discrete_ranges\":{},\"id\":\"851d1b8b-11ef-4d4f-cd56-15c4c5291a50\"},\"id\":\"851d1b8b-11ef-4d4f-cd56-15c4c5291a50\"},{\"type\":\"Quad\",\"attributes\":{\"right\":{\"units\":\"data\",\"field\":\"x1\"},\"bottom\":{\"units\":\"data\",\"field\":\"y0\"},\"id\":\"edb83bf6-05e3-44b6-c4a2-4de8e78dc2eb\",\"doc\":null,\"fill_color\":{\"value\":\"red\"},\"left\":{\"units\":\"data\",\"field\":\"x0\"},\"fill_alpha\":{\"units\":\"data\",\"value\":0.7},\"line_alpha\":{\"units\":\"data\",\"value\":1},\"tags\":[],\"line_color\":{\"value\":\"red\"},\"top\":{\"units\":\"data\",\"field\":\"y1\"}},\"id\":\"edb83bf6-05e3-44b6-c4a2-4de8e78dc2eb\"},{\"type\":\"Quad\",\"attributes\":{\"right\":{\"units\":\"data\",\"field\":\"x1\"},\"bottom\":{\"units\":\"data\",\"field\":\"y0\"},\"id\":\"9ad64c8d-0dc1-490d-c9da-0dd82bac1e91\",\"doc\":null,\"fill_color\":{\"value\":\"red\"},\"left\":{\"units\":\"data\",\"field\":\"x0\"},\"fill_alpha\":{\"units\":\"data\",\"value\":0.7},\"line_alpha\":{\"units\":\"data\",\"value\":1},\"tags\":[],\"line_color\":{\"value\":\"red\"},\"top\":{\"units\":\"data\",\"field\":\"y1\"}},\"id\":\"9ad64c8d-0dc1-490d-c9da-0dd82bac1e91\"},{\"type\":\"GlyphRenderer\",\"attributes\":{\"data_source\":{\"type\":\"ColumnDataSource\",\"id\":\"851d1b8b-11ef-4d4f-cd56-15c4c5291a50\"},\"id\":\"88fe02b4-c305-4443-c4bc-51a48e8ab53c\",\"server_data_source\":null,\"doc\":null,\"nonselection_glyph\":{\"type\":\"Quad\",\"id\":\"9ad64c8d-0dc1-490d-c9da-0dd82bac1e91\"},\"glyph\":{\"type\":\"Quad\",\"id\":\"edb83bf6-05e3-44b6-c4a2-4de8e78dc2eb\"},\"tags\":[],\"name\":null,\"selection_glyph\":null},\"id\":\"88fe02b4-c305-4443-c4bc-51a48e8ab53c\"},{\"type\":\"DataRange1d\",\"attributes\":{\"tags\":[],\"doc\":null,\"sources\":[{\"source\":{\"type\":\"ColumnDataSource\",\"id\":\"851d1b8b-11ef-4d4f-cd56-15c4c5291a50\"},\"columns\":[\"x1\",\"x0\"]}],\"id\":\"3de3aa81-2bc2-4514-c55b-552a597be5ee\"},\"id\":\"3de3aa81-2bc2-4514-c55b-552a597be5ee\"},{\"type\":\"DataRange1d\",\"attributes\":{\"tags\":[],\"doc\":null,\"sources\":[{\"source\":{\"type\":\"ColumnDataSource\",\"id\":\"851d1b8b-11ef-4d4f-cd56-15c4c5291a50\"},\"columns\":[\"y1\",\"y0\"]}],\"id\":\"30478146-1415-43bc-c354-2f11b7f63741\"},\"id\":\"30478146-1415-43bc-c354-2f11b7f63741\"},{\"type\":\"ToolEvents\",\"attributes\":{\"tags\":[],\"doc\":null,\"geometries\":[],\"id\":\"67fedde7-77f3-4be4-cbee-f8d7e302e1f3\"},\"id\":\"67fedde7-77f3-4be4-cbee-f8d7e302e1f3\"},{\"type\":\"BasicTickFormatter\",\"attributes\":{\"tags\":[],\"doc\":null,\"id\":\"bf1c741c-5060-4927-c9b9-07391de6e8a4\"},\"id\":\"bf1c741c-5060-4927-c9b9-07391de6e8a4\"},{\"type\":\"BasicTicker\",\"attributes\":{\"tags\":[],\"doc\":null,\"num_minor_ticks\":5,\"id\":\"e4375cef-c895-46d0-c6a9-fab205519e72\"},\"id\":\"e4375cef-c895-46d0-c6a9-fab205519e72\"},{\"type\":\"LinearAxis\",\"attributes\":{\"plot\":{\"type\":\"Plot\",\"subtype\":\"Figure\",\"id\":\"4790005a-184c-44cd-c430-d44d8e4487c9\"},\"ticker\":{\"type\":\"BasicTicker\",\"id\":\"e4375cef-c895-46d0-c6a9-fab205519e72\"},\"id\":\"648b2e60-e405-4c40-cc5b-fff61141078a\",\"tags\":[],\"doc\":null,\"formatter\":{\"type\":\"BasicTickFormatter\",\"id\":\"bf1c741c-5060-4927-c9b9-07391de6e8a4\"},\"axis_label\":\"value\"},\"id\":\"648b2e60-e405-4c40-cc5b-fff61141078a\"},{\"type\":\"Grid\",\"attributes\":{\"plot\":{\"type\":\"Plot\",\"subtype\":\"Figure\",\"id\":\"4790005a-184c-44cd-c430-d44d8e4487c9\"},\"id\":\"489e075e-014c-4ef5-ce93-ac111bcdfad3\",\"tags\":[],\"doc\":null,\"ticker\":{\"type\":\"BasicTicker\",\"id\":\"e4375cef-c895-46d0-c6a9-fab205519e72\"},\"dimension\":0},\"id\":\"489e075e-014c-4ef5-ce93-ac111bcdfad3\"},{\"type\":\"BasicTickFormatter\",\"attributes\":{\"tags\":[],\"doc\":null,\"id\":\"4323d333-fe4b-47ae-c720-624cf01f3eae\"},\"id\":\"4323d333-fe4b-47ae-c720-624cf01f3eae\"},{\"type\":\"BasicTicker\",\"attributes\":{\"tags\":[],\"doc\":null,\"num_minor_ticks\":5,\"id\":\"1aa638fb-0aeb-4e45-cebe-45eea8d8a6e4\"},\"id\":\"1aa638fb-0aeb-4e45-cebe-45eea8d8a6e4\"},{\"type\":\"LinearAxis\",\"attributes\":{\"plot\":{\"type\":\"Plot\",\"subtype\":\"Figure\",\"id\":\"4790005a-184c-44cd-c430-d44d8e4487c9\"},\"ticker\":{\"type\":\"BasicTicker\",\"id\":\"1aa638fb-0aeb-4e45-cebe-45eea8d8a6e4\"},\"id\":\"a5b6de1d-d2b3-4e39-ce5e-d76a30234d47\",\"tags\":[],\"doc\":null,\"formatter\":{\"type\":\"BasicTickFormatter\",\"id\":\"4323d333-fe4b-47ae-c720-624cf01f3eae\"},\"axis_label\":\"freq\"},\"id\":\"a5b6de1d-d2b3-4e39-ce5e-d76a30234d47\"},{\"type\":\"Grid\",\"attributes\":{\"plot\":{\"type\":\"Plot\",\"subtype\":\"Figure\",\"id\":\"4790005a-184c-44cd-c430-d44d8e4487c9\"},\"id\":\"d8769ff3-60c1-4be2-cbef-3376017c54e6\",\"tags\":[],\"doc\":null,\"ticker\":{\"type\":\"BasicTicker\",\"id\":\"1aa638fb-0aeb-4e45-cebe-45eea8d8a6e4\"},\"dimension\":1},\"id\":\"d8769ff3-60c1-4be2-cbef-3376017c54e6\"},{\"type\":\"PanTool\",\"attributes\":{\"plot\":{\"type\":\"Plot\",\"subtype\":\"Figure\",\"id\":\"4790005a-184c-44cd-c430-d44d8e4487c9\"},\"id\":\"5cff97a7-73c3-432a-c325-b8d3f3c8984a\",\"tags\":[],\"doc\":null,\"dimensions\":[\"width\",\"height\"]},\"id\":\"5cff97a7-73c3-432a-c325-b8d3f3c8984a\"},{\"type\":\"WheelZoomTool\",\"attributes\":{\"plot\":{\"type\":\"Plot\",\"subtype\":\"Figure\",\"id\":\"4790005a-184c-44cd-c430-d44d8e4487c9\"},\"id\":\"8fece7b3-34f4-4a7d-ca00-df339eec392a\",\"tags\":[],\"doc\":null,\"dimensions\":[\"width\",\"height\"]},\"id\":\"8fece7b3-34f4-4a7d-ca00-df339eec392a\"},{\"type\":\"BoxZoomTool\",\"attributes\":{\"tags\":[],\"doc\":null,\"plot\":{\"type\":\"Plot\",\"subtype\":\"Figure\",\"id\":\"4790005a-184c-44cd-c430-d44d8e4487c9\"},\"id\":\"51b3bdeb-9054-46ac-c68b-ae4a6f851315\"},\"id\":\"51b3bdeb-9054-46ac-c68b-ae4a6f851315\"},{\"type\":\"PreviewSaveTool\",\"attributes\":{\"tags\":[],\"doc\":null,\"plot\":{\"type\":\"Plot\",\"subtype\":\"Figure\",\"id\":\"4790005a-184c-44cd-c430-d44d8e4487c9\"},\"id\":\"4e5f4750-9a88-4fca-cf9f-cd4ce3b7a203\"},\"id\":\"4e5f4750-9a88-4fca-cf9f-cd4ce3b7a203\"},{\"type\":\"ResizeTool\",\"attributes\":{\"tags\":[],\"doc\":null,\"plot\":{\"type\":\"Plot\",\"subtype\":\"Figure\",\"id\":\"4790005a-184c-44cd-c430-d44d8e4487c9\"},\"id\":\"49fd7e0a-99e4-42c9-c230-569e198fd904\"},\"id\":\"49fd7e0a-99e4-42c9-c230-569e198fd904\"},{\"type\":\"ResetTool\",\"attributes\":{\"tags\":[],\"doc\":null,\"plot\":{\"type\":\"Plot\",\"subtype\":\"Figure\",\"id\":\"4790005a-184c-44cd-c430-d44d8e4487c9\"},\"id\":\"71c762a4-7339-4c46-cc34-a9cde1830045\"},\"id\":\"71c762a4-7339-4c46-cc34-a9cde1830045\"},{\"type\":\"Plot\",\"attributes\":{\"right\":[],\"extra_y_ranges\":{},\"x_range\":{\"type\":\"DataRange1d\",\"id\":\"3de3aa81-2bc2-4514-c55b-552a597be5ee\"},\"id\":\"4790005a-184c-44cd-c430-d44d8e4487c9\",\"doc\":null,\"title\":\"ABPd-0->24-mean\",\"renderers\":[{\"type\":\"GlyphRenderer\",\"id\":\"88fe02b4-c305-4443-c4bc-51a48e8ab53c\"},{\"type\":\"LinearAxis\",\"id\":\"648b2e60-e405-4c40-cc5b-fff61141078a\"},{\"type\":\"Grid\",\"id\":\"489e075e-014c-4ef5-ce93-ac111bcdfad3\"},{\"type\":\"LinearAxis\",\"id\":\"a5b6de1d-d2b3-4e39-ce5e-d76a30234d47\"},{\"type\":\"Grid\",\"id\":\"d8769ff3-60c1-4be2-cbef-3376017c54e6\"}],\"tools\":[{\"type\":\"PanTool\",\"id\":\"5cff97a7-73c3-432a-c325-b8d3f3c8984a\"},{\"type\":\"WheelZoomTool\",\"id\":\"8fece7b3-34f4-4a7d-ca00-df339eec392a\"},{\"type\":\"BoxZoomTool\",\"id\":\"51b3bdeb-9054-46ac-c68b-ae4a6f851315\"},{\"type\":\"PreviewSaveTool\",\"id\":\"4e5f4750-9a88-4fca-cf9f-cd4ce3b7a203\"},{\"type\":\"ResizeTool\",\"id\":\"49fd7e0a-99e4-42c9-c230-569e198fd904\"},{\"type\":\"ResetTool\",\"id\":\"71c762a4-7339-4c46-cc34-a9cde1830045\"}],\"left\":[{\"type\":\"LinearAxis\",\"id\":\"a5b6de1d-d2b3-4e39-ce5e-d76a30234d47\"}],\"above\":[],\"extra_x_ranges\":{},\"tags\":[],\"tool_events\":{\"type\":\"ToolEvents\",\"id\":\"67fedde7-77f3-4be4-cbee-f8d7e302e1f3\"},\"y_range\":{\"type\":\"DataRange1d\",\"id\":\"30478146-1415-43bc-c354-2f11b7f63741\"},\"below\":[{\"type\":\"LinearAxis\",\"id\":\"648b2e60-e405-4c40-cc5b-fff61141078a\"}]},\"id\":\"4790005a-184c-44cd-c430-d44d8e4487c9\"}];\n",
        "  Bokeh.load_models(all_models);\n",
        "  var model = Bokeh.Collections(modeltype).get(modelid);\n",
        "  $(\"#fc73a7e6-7404-4f02-cf0e-21bbb4c021ef\").html(''); // clear any previous plot in window_id\n",
        "  var view = new model.default_view({model: model, el: \"#fc73a7e6-7404-4f02-cf0e-21bbb4c021ef\"});\n",
        "    } else {\n",
        "  load_lib(bokehjs_url, function() {\n",
        "      console.log(\"Bokeh: BokehJS plotting callback run at\", new Date())\n",
        "      var modelid = \"4790005a-184c-44cd-c430-d44d8e4487c9\";\n",
        "      var modeltype = \"Plot\";\n",
        "      var all_models = [{\"type\":\"ColumnDataSource\",\"attributes\":{\"cont_ranges\":{},\"column_names\":[\"y1\",\"x1\",\"y0\",\"x0\"],\"data\":{\"y1\":[1,0,0,0,0,0,0,0,1,0,0,3,3,2,3,6,8,8,8,12,9,7,25,14,17,27,22,29,50,41,48,51,48,51,72,82,79,92,88,71,80,75,79,76,80,66,58,74,44,50,49,59,30,41,30,25,28,18,22,19,13,13,14,11,6,9,13,9,8,4,7,3,4,3,4,5,1,2,2,1,1,1,1,0,0,2,1,0,1,1,0,0,0,0,0,0,0,0,0,1],\"x1\":[21.576,22.341472910927,23.106945821855,23.872418732782,24.63789164371,25.403364554637,26.168837465565,26.934310376492,27.69978328742,28.465256198347,29.230729109275,29.996202020202,30.761674931129,31.527147842057,32.292620752984,33.058093663912,33.823566574839,34.589039485767,35.354512396694,36.119985307622,36.885458218549,37.650931129477,38.416404040404,39.181876951331,39.947349862259,40.712822773186,41.478295684114,42.243768595041,43.009241505969,43.774714416896,44.540187327824,45.305660238751,46.071133149679,46.836606060606,47.602078971534,48.367551882461,49.133024793388,49.898497704316,50.663970615243,51.429443526171,52.194916437098,52.960389348026,53.725862258953,54.491335169881,55.256808080808,56.022280991736,56.787753902663,57.55322681359,58.318699724518,59.084172635445,59.849645546373,60.6151184573,61.380591368228,62.146064279155,62.911537190083,63.67701010101,64.442483011938,65.207955922865,65.973428833792,66.73890174472,67.504374655647,68.269847566575,69.035320477502,69.80079338843,70.566266299357,71.331739210285,72.097212121212,72.86268503214,73.628157943067,74.393630853994,75.159103764922,75.924576675849,76.690049586777,77.455522497704,78.220995408632,78.986468319559,79.751941230487,80.517414141414,81.282887052342,82.048359963269,82.813832874197,83.579305785124,84.344778696051,85.110251606979,85.875724517906,86.641197428834,87.406670339761,88.172143250689,88.937616161616,89.703089072544,90.468561983471,91.234034894399,91.999507805326,92.764980716253,93.530453627181,94.295926538108,95.061399449036,95.826872359963,96.592345270891,97.357818181818],\"y0\":[0,0,0,0,0,0,0,0,0,0,0,0,0,0,0,0,0,0,0,0,0,0,0,0,0,0,0,0,0,0,0,0,0,0,0,0,0,0,0,0,0,0,0,0,0,0,0,0,0,0,0,0,0,0,0,0,0,0,0,0,0,0,0,0,0,0,0,0,0,0,0,0,0,0,0,0,0,0,0,0,0,0,0,0,0,0,0,0,0,0,0,0,0,0,0,0,0,0,0,0],\"x0\":[20.818181818182,21.583654729109,22.349127640037,23.114600550964,23.880073461892,24.645546372819,25.411019283747,26.176492194674,26.941965105601,27.707438016529,28.472910927456,29.238383838384,30.003856749311,30.769329660239,31.534802571166,32.300275482094,33.065748393021,33.831221303949,34.596694214876,35.362167125803,36.127640036731,36.893112947658,37.658585858586,38.424058769513,39.189531680441,39.955004591368,40.720477502296,41.485950413223,42.251423324151,43.016896235078,43.782369146006,44.547842056933,45.31331496786,46.078787878788,46.844260789715,47.609733700643,48.37520661157,49.140679522498,49.906152433425,50.671625344353,51.43709825528,52.202571166208,52.968044077135,53.733516988062,54.49898989899,55.264462809917,56.029935720845,56.795408631772,57.5608815427,58.326354453627,59.091827364555,59.857300275482,60.62277318641,61.388246097337,62.153719008264,62.919191919192,63.684664830119,64.450137741047,65.215610651974,65.981083562902,66.746556473829,67.512029384757,68.277502295684,69.042975206612,69.808448117539,70.573921028466,71.339393939394,72.104866850321,72.870339761249,73.635812672176,74.401285583104,75.166758494031,75.932231404959,76.697704315886,77.463177226814,78.228650137741,78.994123048668,79.759595959596,80.525068870523,81.290541781451,82.056014692378,82.821487603306,83.586960514233,84.352433425161,85.117906336088,85.883379247016,86.648852157943,87.414325068871,88.179797979798,88.945270890725,89.710743801653,90.47621671258,91.241689623508,92.007162534435,92.772635445363,93.53810835629,94.303581267218,95.069054178145,95.834527089073,96.6]},\"selected\":[],\"tags\":[],\"doc\":null,\"discrete_ranges\":{},\"id\":\"851d1b8b-11ef-4d4f-cd56-15c4c5291a50\"},\"id\":\"851d1b8b-11ef-4d4f-cd56-15c4c5291a50\"},{\"type\":\"Quad\",\"attributes\":{\"right\":{\"units\":\"data\",\"field\":\"x1\"},\"bottom\":{\"units\":\"data\",\"field\":\"y0\"},\"id\":\"edb83bf6-05e3-44b6-c4a2-4de8e78dc2eb\",\"doc\":null,\"fill_color\":{\"value\":\"red\"},\"left\":{\"units\":\"data\",\"field\":\"x0\"},\"fill_alpha\":{\"units\":\"data\",\"value\":0.7},\"line_alpha\":{\"units\":\"data\",\"value\":1},\"tags\":[],\"line_color\":{\"value\":\"red\"},\"top\":{\"units\":\"data\",\"field\":\"y1\"}},\"id\":\"edb83bf6-05e3-44b6-c4a2-4de8e78dc2eb\"},{\"type\":\"Quad\",\"attributes\":{\"right\":{\"units\":\"data\",\"field\":\"x1\"},\"bottom\":{\"units\":\"data\",\"field\":\"y0\"},\"id\":\"9ad64c8d-0dc1-490d-c9da-0dd82bac1e91\",\"doc\":null,\"fill_color\":{\"value\":\"red\"},\"left\":{\"units\":\"data\",\"field\":\"x0\"},\"fill_alpha\":{\"units\":\"data\",\"value\":0.7},\"line_alpha\":{\"units\":\"data\",\"value\":1},\"tags\":[],\"line_color\":{\"value\":\"red\"},\"top\":{\"units\":\"data\",\"field\":\"y1\"}},\"id\":\"9ad64c8d-0dc1-490d-c9da-0dd82bac1e91\"},{\"type\":\"GlyphRenderer\",\"attributes\":{\"data_source\":{\"type\":\"ColumnDataSource\",\"id\":\"851d1b8b-11ef-4d4f-cd56-15c4c5291a50\"},\"id\":\"88fe02b4-c305-4443-c4bc-51a48e8ab53c\",\"server_data_source\":null,\"doc\":null,\"nonselection_glyph\":{\"type\":\"Quad\",\"id\":\"9ad64c8d-0dc1-490d-c9da-0dd82bac1e91\"},\"glyph\":{\"type\":\"Quad\",\"id\":\"edb83bf6-05e3-44b6-c4a2-4de8e78dc2eb\"},\"tags\":[],\"name\":null,\"selection_glyph\":null},\"id\":\"88fe02b4-c305-4443-c4bc-51a48e8ab53c\"},{\"type\":\"DataRange1d\",\"attributes\":{\"tags\":[],\"doc\":null,\"sources\":[{\"source\":{\"type\":\"ColumnDataSource\",\"id\":\"851d1b8b-11ef-4d4f-cd56-15c4c5291a50\"},\"columns\":[\"x1\",\"x0\"]}],\"id\":\"3de3aa81-2bc2-4514-c55b-552a597be5ee\"},\"id\":\"3de3aa81-2bc2-4514-c55b-552a597be5ee\"},{\"type\":\"DataRange1d\",\"attributes\":{\"tags\":[],\"doc\":null,\"sources\":[{\"source\":{\"type\":\"ColumnDataSource\",\"id\":\"851d1b8b-11ef-4d4f-cd56-15c4c5291a50\"},\"columns\":[\"y1\",\"y0\"]}],\"id\":\"30478146-1415-43bc-c354-2f11b7f63741\"},\"id\":\"30478146-1415-43bc-c354-2f11b7f63741\"},{\"type\":\"ToolEvents\",\"attributes\":{\"tags\":[],\"doc\":null,\"geometries\":[],\"id\":\"67fedde7-77f3-4be4-cbee-f8d7e302e1f3\"},\"id\":\"67fedde7-77f3-4be4-cbee-f8d7e302e1f3\"},{\"type\":\"BasicTickFormatter\",\"attributes\":{\"tags\":[],\"doc\":null,\"id\":\"bf1c741c-5060-4927-c9b9-07391de6e8a4\"},\"id\":\"bf1c741c-5060-4927-c9b9-07391de6e8a4\"},{\"type\":\"BasicTicker\",\"attributes\":{\"tags\":[],\"doc\":null,\"num_minor_ticks\":5,\"id\":\"e4375cef-c895-46d0-c6a9-fab205519e72\"},\"id\":\"e4375cef-c895-46d0-c6a9-fab205519e72\"},{\"type\":\"LinearAxis\",\"attributes\":{\"plot\":{\"type\":\"Plot\",\"subtype\":\"Figure\",\"id\":\"4790005a-184c-44cd-c430-d44d8e4487c9\"},\"ticker\":{\"type\":\"BasicTicker\",\"id\":\"e4375cef-c895-46d0-c6a9-fab205519e72\"},\"id\":\"648b2e60-e405-4c40-cc5b-fff61141078a\",\"tags\":[],\"doc\":null,\"formatter\":{\"type\":\"BasicTickFormatter\",\"id\":\"bf1c741c-5060-4927-c9b9-07391de6e8a4\"},\"axis_label\":\"value\"},\"id\":\"648b2e60-e405-4c40-cc5b-fff61141078a\"},{\"type\":\"Grid\",\"attributes\":{\"plot\":{\"type\":\"Plot\",\"subtype\":\"Figure\",\"id\":\"4790005a-184c-44cd-c430-d44d8e4487c9\"},\"id\":\"489e075e-014c-4ef5-ce93-ac111bcdfad3\",\"tags\":[],\"doc\":null,\"ticker\":{\"type\":\"BasicTicker\",\"id\":\"e4375cef-c895-46d0-c6a9-fab205519e72\"},\"dimension\":0},\"id\":\"489e075e-014c-4ef5-ce93-ac111bcdfad3\"},{\"type\":\"BasicTickFormatter\",\"attributes\":{\"tags\":[],\"doc\":null,\"id\":\"4323d333-fe4b-47ae-c720-624cf01f3eae\"},\"id\":\"4323d333-fe4b-47ae-c720-624cf01f3eae\"},{\"type\":\"BasicTicker\",\"attributes\":{\"tags\":[],\"doc\":null,\"num_minor_ticks\":5,\"id\":\"1aa638fb-0aeb-4e45-cebe-45eea8d8a6e4\"},\"id\":\"1aa638fb-0aeb-4e45-cebe-45eea8d8a6e4\"},{\"type\":\"LinearAxis\",\"attributes\":{\"plot\":{\"type\":\"Plot\",\"subtype\":\"Figure\",\"id\":\"4790005a-184c-44cd-c430-d44d8e4487c9\"},\"ticker\":{\"type\":\"BasicTicker\",\"id\":\"1aa638fb-0aeb-4e45-cebe-45eea8d8a6e4\"},\"id\":\"a5b6de1d-d2b3-4e39-ce5e-d76a30234d47\",\"tags\":[],\"doc\":null,\"formatter\":{\"type\":\"BasicTickFormatter\",\"id\":\"4323d333-fe4b-47ae-c720-624cf01f3eae\"},\"axis_label\":\"freq\"},\"id\":\"a5b6de1d-d2b3-4e39-ce5e-d76a30234d47\"},{\"type\":\"Grid\",\"attributes\":{\"plot\":{\"type\":\"Plot\",\"subtype\":\"Figure\",\"id\":\"4790005a-184c-44cd-c430-d44d8e4487c9\"},\"id\":\"d8769ff3-60c1-4be2-cbef-3376017c54e6\",\"tags\":[],\"doc\":null,\"ticker\":{\"type\":\"BasicTicker\",\"id\":\"1aa638fb-0aeb-4e45-cebe-45eea8d8a6e4\"},\"dimension\":1},\"id\":\"d8769ff3-60c1-4be2-cbef-3376017c54e6\"},{\"type\":\"PanTool\",\"attributes\":{\"plot\":{\"type\":\"Plot\",\"subtype\":\"Figure\",\"id\":\"4790005a-184c-44cd-c430-d44d8e4487c9\"},\"id\":\"5cff97a7-73c3-432a-c325-b8d3f3c8984a\",\"tags\":[],\"doc\":null,\"dimensions\":[\"width\",\"height\"]},\"id\":\"5cff97a7-73c3-432a-c325-b8d3f3c8984a\"},{\"type\":\"WheelZoomTool\",\"attributes\":{\"plot\":{\"type\":\"Plot\",\"subtype\":\"Figure\",\"id\":\"4790005a-184c-44cd-c430-d44d8e4487c9\"},\"id\":\"8fece7b3-34f4-4a7d-ca00-df339eec392a\",\"tags\":[],\"doc\":null,\"dimensions\":[\"width\",\"height\"]},\"id\":\"8fece7b3-34f4-4a7d-ca00-df339eec392a\"},{\"type\":\"BoxZoomTool\",\"attributes\":{\"tags\":[],\"doc\":null,\"plot\":{\"type\":\"Plot\",\"subtype\":\"Figure\",\"id\":\"4790005a-184c-44cd-c430-d44d8e4487c9\"},\"id\":\"51b3bdeb-9054-46ac-c68b-ae4a6f851315\"},\"id\":\"51b3bdeb-9054-46ac-c68b-ae4a6f851315\"},{\"type\":\"PreviewSaveTool\",\"attributes\":{\"tags\":[],\"doc\":null,\"plot\":{\"type\":\"Plot\",\"subtype\":\"Figure\",\"id\":\"4790005a-184c-44cd-c430-d44d8e4487c9\"},\"id\":\"4e5f4750-9a88-4fca-cf9f-cd4ce3b7a203\"},\"id\":\"4e5f4750-9a88-4fca-cf9f-cd4ce3b7a203\"},{\"type\":\"ResizeTool\",\"attributes\":{\"tags\":[],\"doc\":null,\"plot\":{\"type\":\"Plot\",\"subtype\":\"Figure\",\"id\":\"4790005a-184c-44cd-c430-d44d8e4487c9\"},\"id\":\"49fd7e0a-99e4-42c9-c230-569e198fd904\"},\"id\":\"49fd7e0a-99e4-42c9-c230-569e198fd904\"},{\"type\":\"ResetTool\",\"attributes\":{\"tags\":[],\"doc\":null,\"plot\":{\"type\":\"Plot\",\"subtype\":\"Figure\",\"id\":\"4790005a-184c-44cd-c430-d44d8e4487c9\"},\"id\":\"71c762a4-7339-4c46-cc34-a9cde1830045\"},\"id\":\"71c762a4-7339-4c46-cc34-a9cde1830045\"},{\"type\":\"Plot\",\"attributes\":{\"right\":[],\"extra_y_ranges\":{},\"x_range\":{\"type\":\"DataRange1d\",\"id\":\"3de3aa81-2bc2-4514-c55b-552a597be5ee\"},\"id\":\"4790005a-184c-44cd-c430-d44d8e4487c9\",\"doc\":null,\"title\":\"ABPd-0->24-mean\",\"renderers\":[{\"type\":\"GlyphRenderer\",\"id\":\"88fe02b4-c305-4443-c4bc-51a48e8ab53c\"},{\"type\":\"LinearAxis\",\"id\":\"648b2e60-e405-4c40-cc5b-fff61141078a\"},{\"type\":\"Grid\",\"id\":\"489e075e-014c-4ef5-ce93-ac111bcdfad3\"},{\"type\":\"LinearAxis\",\"id\":\"a5b6de1d-d2b3-4e39-ce5e-d76a30234d47\"},{\"type\":\"Grid\",\"id\":\"d8769ff3-60c1-4be2-cbef-3376017c54e6\"}],\"tools\":[{\"type\":\"PanTool\",\"id\":\"5cff97a7-73c3-432a-c325-b8d3f3c8984a\"},{\"type\":\"WheelZoomTool\",\"id\":\"8fece7b3-34f4-4a7d-ca00-df339eec392a\"},{\"type\":\"BoxZoomTool\",\"id\":\"51b3bdeb-9054-46ac-c68b-ae4a6f851315\"},{\"type\":\"PreviewSaveTool\",\"id\":\"4e5f4750-9a88-4fca-cf9f-cd4ce3b7a203\"},{\"type\":\"ResizeTool\",\"id\":\"49fd7e0a-99e4-42c9-c230-569e198fd904\"},{\"type\":\"ResetTool\",\"id\":\"71c762a4-7339-4c46-cc34-a9cde1830045\"}],\"left\":[{\"type\":\"LinearAxis\",\"id\":\"a5b6de1d-d2b3-4e39-ce5e-d76a30234d47\"}],\"above\":[],\"extra_x_ranges\":{},\"tags\":[],\"tool_events\":{\"type\":\"ToolEvents\",\"id\":\"67fedde7-77f3-4be4-cbee-f8d7e302e1f3\"},\"y_range\":{\"type\":\"DataRange1d\",\"id\":\"30478146-1415-43bc-c354-2f11b7f63741\"},\"below\":[{\"type\":\"LinearAxis\",\"id\":\"648b2e60-e405-4c40-cc5b-fff61141078a\"}]},\"id\":\"4790005a-184c-44cd-c430-d44d8e4487c9\"}];\n",
        "      Bokeh.load_models(all_models);\n",
        "      var model = Bokeh.Collections(modeltype).get(modelid);\n",
        "      $(\"#fc73a7e6-7404-4f02-cf0e-21bbb4c021ef\").html(''); // clear any previous plot in window_id\n",
        "      var view = new model.default_view({model: model, el: \"#fc73a7e6-7404-4f02-cf0e-21bbb4c021ef\"});\n",
        "  });\n",
        "    }\n",
        "});\n",
        "</script>\n",
        "<div class=\"plotdiv\" id=\"c743e878-2950-4f7e-cfc8-7835840a558a\"></div>\n"
       ],
       "metadata": {},
       "output_type": "display_data"
      },
      {
       "html": [
        "<script type=\"text/javascript\">\n",
        "$(function() {\n",
        "    if (typeof (window._bokeh_onload_callbacks) === \"undefined\"){\n",
        "  window._bokeh_onload_callbacks = [];\n",
        "    }\n",
        "    function load_lib(url, callback){\n",
        "  window._bokeh_onload_callbacks.push(callback);\n",
        "  if (window._bokeh_is_loading){\n",
        "      console.log(\"Bokeh: BokehJS is being loaded, scheduling callback at\", new Date());\n",
        "      return null;\n",
        "  }\n",
        "  console.log(\"Bokeh: BokehJS not loaded, scheduling load and callback at\", new Date());\n",
        "  window._bokeh_is_loading = true;\n",
        "  var s = document.createElement('script');\n",
        "  s.src = url;\n",
        "  s.async = true;\n",
        "  s.onreadystatechange = s.onload = function(){\n",
        "      Bokeh.embed.inject_css(\"http://cdn.pydata.org/bokeh-0.7.0.min.css\");\n",
        "      window._bokeh_onload_callbacks.forEach(function(callback){callback()});\n",
        "  };\n",
        "  s.onerror = function(){\n",
        "      console.warn(\"failed to load library \" + url);\n",
        "  };\n",
        "  document.getElementsByTagName(\"head\")[0].appendChild(s);\n",
        "    }\n",
        "\n",
        "    bokehjs_url = \"http://cdn.pydata.org/bokeh-0.7.0.min.js\"\n",
        "\n",
        "    var elt = document.getElementById(\"fc73a7e6-7404-4f02-cf0e-21bbb4c021ef\");\n",
        "    if(elt==null) {\n",
        "  console.log(\"Bokeh: ERROR: autoload.js configured with elementid 'fc73a7e6-7404-4f02-cf0e-21bbb4c021ef'\"\n",
        "        + \"but no matching script tag was found. \")\n",
        "  return false;\n",
        "    }\n",
        "\n",
        "    if(typeof(Bokeh) !== \"undefined\") {\n",
        "  console.log(\"Bokeh: BokehJS loaded, going straight to plotting\");\n",
        "  var modelid = \"38bd9b0b-8d2c-432c-c33c-6353b5ddd497\";\n",
        "  var modeltype = \"Plot\";\n",
        "  var all_models = [{\"type\":\"ColumnDataSource\",\"attributes\":{\"cont_ranges\":{},\"column_names\":[\"y1\",\"x1\",\"y0\",\"x0\"],\"data\":{\"y1\":[1,0,0,0,0,0,0,0,1,0,0,3,3,2,3,6,8,8,8,12,9,7,25,14,17,27,22,29,50,41,48,51,48,51,72,82,79,92,88,71,80,75,79,76,80,66,58,74,44,50,49,59,30,41,30,25,28,18,22,19,13,13,14,11,6,9,13,9,8,4,7,3,4,3,4,5,1,2,2,1,1,1,1,0,0,2,1,0,1,1,0,0,0,0,0,0,0,0,0,1],\"x1\":[21.576,22.341472910927,23.106945821855,23.872418732782,24.63789164371,25.403364554637,26.168837465565,26.934310376492,27.69978328742,28.465256198347,29.230729109275,29.996202020202,30.761674931129,31.527147842057,32.292620752984,33.058093663912,33.823566574839,34.589039485767,35.354512396694,36.119985307622,36.885458218549,37.650931129477,38.416404040404,39.181876951331,39.947349862259,40.712822773186,41.478295684114,42.243768595041,43.009241505969,43.774714416896,44.540187327824,45.305660238751,46.071133149679,46.836606060606,47.602078971534,48.367551882461,49.133024793388,49.898497704316,50.663970615243,51.429443526171,52.194916437098,52.960389348026,53.725862258953,54.491335169881,55.256808080808,56.022280991736,56.787753902663,57.55322681359,58.318699724518,59.084172635445,59.849645546373,60.6151184573,61.380591368228,62.146064279155,62.911537190083,63.67701010101,64.442483011938,65.207955922865,65.973428833792,66.73890174472,67.504374655647,68.269847566575,69.035320477502,69.80079338843,70.566266299357,71.331739210285,72.097212121212,72.86268503214,73.628157943067,74.393630853994,75.159103764922,75.924576675849,76.690049586777,77.455522497704,78.220995408632,78.986468319559,79.751941230487,80.517414141414,81.282887052342,82.048359963269,82.813832874197,83.579305785124,84.344778696051,85.110251606979,85.875724517906,86.641197428834,87.406670339761,88.172143250689,88.937616161616,89.703089072544,90.468561983471,91.234034894399,91.999507805326,92.764980716253,93.530453627181,94.295926538108,95.061399449036,95.826872359963,96.592345270891,97.357818181818],\"y0\":[0,0,0,0,0,0,0,0,0,0,0,0,0,0,0,0,0,0,0,0,0,0,0,0,0,0,0,0,0,0,0,0,0,0,0,0,0,0,0,0,0,0,0,0,0,0,0,0,0,0,0,0,0,0,0,0,0,0,0,0,0,0,0,0,0,0,0,0,0,0,0,0,0,0,0,0,0,0,0,0,0,0,0,0,0,0,0,0,0,0,0,0,0,0,0,0,0,0,0,0],\"x0\":[20.818181818182,21.583654729109,22.349127640037,23.114600550964,23.880073461892,24.645546372819,25.411019283747,26.176492194674,26.941965105601,27.707438016529,28.472910927456,29.238383838384,30.003856749311,30.769329660239,31.534802571166,32.300275482094,33.065748393021,33.831221303949,34.596694214876,35.362167125803,36.127640036731,36.893112947658,37.658585858586,38.424058769513,39.189531680441,39.955004591368,40.720477502296,41.485950413223,42.251423324151,43.016896235078,43.782369146006,44.547842056933,45.31331496786,46.078787878788,46.844260789715,47.609733700643,48.37520661157,49.140679522498,49.906152433425,50.671625344353,51.43709825528,52.202571166208,52.968044077135,53.733516988062,54.49898989899,55.264462809917,56.029935720845,56.795408631772,57.5608815427,58.326354453627,59.091827364555,59.857300275482,60.62277318641,61.388246097337,62.153719008264,62.919191919192,63.684664830119,64.450137741047,65.215610651974,65.981083562902,66.746556473829,67.512029384757,68.277502295684,69.042975206612,69.808448117539,70.573921028466,71.339393939394,72.104866850321,72.870339761249,73.635812672176,74.401285583104,75.166758494031,75.932231404959,76.697704315886,77.463177226814,78.228650137741,78.994123048668,79.759595959596,80.525068870523,81.290541781451,82.056014692378,82.821487603306,83.586960514233,84.352433425161,85.117906336088,85.883379247016,86.648852157943,87.414325068871,88.179797979798,88.945270890725,89.710743801653,90.47621671258,91.241689623508,92.007162534435,92.772635445363,93.53810835629,94.303581267218,95.069054178145,95.834527089073,96.6]},\"selected\":[],\"tags\":[],\"doc\":null,\"discrete_ranges\":{},\"id\":\"38e71985-908a-4f41-cfdb-a4f2127a8589\"},\"id\":\"38e71985-908a-4f41-cfdb-a4f2127a8589\"},{\"type\":\"Quad\",\"attributes\":{\"right\":{\"units\":\"data\",\"field\":\"x1\"},\"bottom\":{\"units\":\"data\",\"field\":\"y0\"},\"id\":\"fb1c0a8c-3974-4ba7-cb54-d027d9fce98f\",\"doc\":null,\"fill_color\":{\"value\":\"red\"},\"left\":{\"units\":\"data\",\"field\":\"x0\"},\"fill_alpha\":{\"units\":\"data\",\"value\":0.7},\"line_alpha\":{\"units\":\"data\",\"value\":1},\"tags\":[],\"line_color\":{\"value\":\"red\"},\"top\":{\"units\":\"data\",\"field\":\"y1\"}},\"id\":\"fb1c0a8c-3974-4ba7-cb54-d027d9fce98f\"},{\"type\":\"Quad\",\"attributes\":{\"right\":{\"units\":\"data\",\"field\":\"x1\"},\"bottom\":{\"units\":\"data\",\"field\":\"y0\"},\"id\":\"3d45818a-b5bc-48e0-c871-129881dfe385\",\"doc\":null,\"fill_color\":{\"value\":\"red\"},\"left\":{\"units\":\"data\",\"field\":\"x0\"},\"fill_alpha\":{\"units\":\"data\",\"value\":0.7},\"line_alpha\":{\"units\":\"data\",\"value\":1},\"tags\":[],\"line_color\":{\"value\":\"red\"},\"top\":{\"units\":\"data\",\"field\":\"y1\"}},\"id\":\"3d45818a-b5bc-48e0-c871-129881dfe385\"},{\"type\":\"GlyphRenderer\",\"attributes\":{\"data_source\":{\"type\":\"ColumnDataSource\",\"id\":\"38e71985-908a-4f41-cfdb-a4f2127a8589\"},\"id\":\"bb20367c-45be-4187-c160-91a65e1b87ee\",\"server_data_source\":null,\"doc\":null,\"nonselection_glyph\":{\"type\":\"Quad\",\"id\":\"3d45818a-b5bc-48e0-c871-129881dfe385\"},\"glyph\":{\"type\":\"Quad\",\"id\":\"fb1c0a8c-3974-4ba7-cb54-d027d9fce98f\"},\"tags\":[],\"name\":null,\"selection_glyph\":null},\"id\":\"bb20367c-45be-4187-c160-91a65e1b87ee\"},{\"type\":\"DataRange1d\",\"attributes\":{\"tags\":[],\"doc\":null,\"sources\":[{\"source\":{\"type\":\"ColumnDataSource\",\"id\":\"38e71985-908a-4f41-cfdb-a4f2127a8589\"},\"columns\":[\"x1\",\"x0\"]}],\"id\":\"75deb4e1-de4b-4277-c2b6-03402a290f7d\"},\"id\":\"75deb4e1-de4b-4277-c2b6-03402a290f7d\"},{\"type\":\"DataRange1d\",\"attributes\":{\"tags\":[],\"doc\":null,\"sources\":[{\"source\":{\"type\":\"ColumnDataSource\",\"id\":\"38e71985-908a-4f41-cfdb-a4f2127a8589\"},\"columns\":[\"y1\",\"y0\"]}],\"id\":\"c77fc70e-c027-4bdd-cb74-9efe64b30c3f\"},\"id\":\"c77fc70e-c027-4bdd-cb74-9efe64b30c3f\"},{\"type\":\"ToolEvents\",\"attributes\":{\"tags\":[],\"doc\":null,\"geometries\":[],\"id\":\"6761a806-b16f-4d65-cdfb-ac8a32d052d3\"},\"id\":\"6761a806-b16f-4d65-cdfb-ac8a32d052d3\"},{\"type\":\"BasicTickFormatter\",\"attributes\":{\"tags\":[],\"doc\":null,\"id\":\"94195310-aa19-4ca4-ccff-ddd71d30ae2e\"},\"id\":\"94195310-aa19-4ca4-ccff-ddd71d30ae2e\"},{\"type\":\"BasicTicker\",\"attributes\":{\"tags\":[],\"doc\":null,\"num_minor_ticks\":5,\"id\":\"1a51a132-5544-45d0-c517-c7413397c262\"},\"id\":\"1a51a132-5544-45d0-c517-c7413397c262\"},{\"type\":\"LinearAxis\",\"attributes\":{\"plot\":{\"type\":\"Plot\",\"subtype\":\"Figure\",\"id\":\"38bd9b0b-8d2c-432c-c33c-6353b5ddd497\"},\"ticker\":{\"type\":\"BasicTicker\",\"id\":\"1a51a132-5544-45d0-c517-c7413397c262\"},\"id\":\"bb1614d0-945b-49bc-c939-478134e839e5\",\"tags\":[],\"doc\":null,\"formatter\":{\"type\":\"BasicTickFormatter\",\"id\":\"94195310-aa19-4ca4-ccff-ddd71d30ae2e\"},\"axis_label\":\"value\"},\"id\":\"bb1614d0-945b-49bc-c939-478134e839e5\"},{\"type\":\"Grid\",\"attributes\":{\"plot\":{\"type\":\"Plot\",\"subtype\":\"Figure\",\"id\":\"38bd9b0b-8d2c-432c-c33c-6353b5ddd497\"},\"id\":\"ba89f1af-8906-4b2e-cb32-cc24feeefc78\",\"tags\":[],\"doc\":null,\"ticker\":{\"type\":\"BasicTicker\",\"id\":\"1a51a132-5544-45d0-c517-c7413397c262\"},\"dimension\":0},\"id\":\"ba89f1af-8906-4b2e-cb32-cc24feeefc78\"},{\"type\":\"BasicTickFormatter\",\"attributes\":{\"tags\":[],\"doc\":null,\"id\":\"6a3bde1f-0946-44d8-c4ae-464b440e8a88\"},\"id\":\"6a3bde1f-0946-44d8-c4ae-464b440e8a88\"},{\"type\":\"BasicTicker\",\"attributes\":{\"tags\":[],\"doc\":null,\"num_minor_ticks\":5,\"id\":\"c2b03050-7182-4818-c81f-517947bf8a35\"},\"id\":\"c2b03050-7182-4818-c81f-517947bf8a35\"},{\"type\":\"LinearAxis\",\"attributes\":{\"plot\":{\"type\":\"Plot\",\"subtype\":\"Figure\",\"id\":\"38bd9b0b-8d2c-432c-c33c-6353b5ddd497\"},\"ticker\":{\"type\":\"BasicTicker\",\"id\":\"c2b03050-7182-4818-c81f-517947bf8a35\"},\"id\":\"70af5f75-a406-4cb3-ccd2-c2d320ffe43a\",\"tags\":[],\"doc\":null,\"formatter\":{\"type\":\"BasicTickFormatter\",\"id\":\"6a3bde1f-0946-44d8-c4ae-464b440e8a88\"},\"axis_label\":\"freq\"},\"id\":\"70af5f75-a406-4cb3-ccd2-c2d320ffe43a\"},{\"type\":\"Grid\",\"attributes\":{\"plot\":{\"type\":\"Plot\",\"subtype\":\"Figure\",\"id\":\"38bd9b0b-8d2c-432c-c33c-6353b5ddd497\"},\"id\":\"d8f84276-0c60-46a2-c679-e3d3417d7849\",\"tags\":[],\"doc\":null,\"ticker\":{\"type\":\"BasicTicker\",\"id\":\"c2b03050-7182-4818-c81f-517947bf8a35\"},\"dimension\":1},\"id\":\"d8f84276-0c60-46a2-c679-e3d3417d7849\"},{\"type\":\"PanTool\",\"attributes\":{\"plot\":{\"type\":\"Plot\",\"subtype\":\"Figure\",\"id\":\"38bd9b0b-8d2c-432c-c33c-6353b5ddd497\"},\"id\":\"78b1c040-27e8-48fc-c89a-a00850c8fc2e\",\"tags\":[],\"doc\":null,\"dimensions\":[\"width\",\"height\"]},\"id\":\"78b1c040-27e8-48fc-c89a-a00850c8fc2e\"},{\"type\":\"WheelZoomTool\",\"attributes\":{\"plot\":{\"type\":\"Plot\",\"subtype\":\"Figure\",\"id\":\"38bd9b0b-8d2c-432c-c33c-6353b5ddd497\"},\"id\":\"58a0b646-0879-4622-c6ba-6be7f1680868\",\"tags\":[],\"doc\":null,\"dimensions\":[\"width\",\"height\"]},\"id\":\"58a0b646-0879-4622-c6ba-6be7f1680868\"},{\"type\":\"BoxZoomTool\",\"attributes\":{\"tags\":[],\"doc\":null,\"plot\":{\"type\":\"Plot\",\"subtype\":\"Figure\",\"id\":\"38bd9b0b-8d2c-432c-c33c-6353b5ddd497\"},\"id\":\"90cd3bab-7862-4102-c12a-1a4193098f73\"},\"id\":\"90cd3bab-7862-4102-c12a-1a4193098f73\"},{\"type\":\"PreviewSaveTool\",\"attributes\":{\"tags\":[],\"doc\":null,\"plot\":{\"type\":\"Plot\",\"subtype\":\"Figure\",\"id\":\"38bd9b0b-8d2c-432c-c33c-6353b5ddd497\"},\"id\":\"7d2b0a47-170c-4ac1-ca4a-6685398c9c2b\"},\"id\":\"7d2b0a47-170c-4ac1-ca4a-6685398c9c2b\"},{\"type\":\"ResizeTool\",\"attributes\":{\"tags\":[],\"doc\":null,\"plot\":{\"type\":\"Plot\",\"subtype\":\"Figure\",\"id\":\"38bd9b0b-8d2c-432c-c33c-6353b5ddd497\"},\"id\":\"79655b13-5385-4dc0-cd9f-9c4590daca1a\"},\"id\":\"79655b13-5385-4dc0-cd9f-9c4590daca1a\"},{\"type\":\"ResetTool\",\"attributes\":{\"tags\":[],\"doc\":null,\"plot\":{\"type\":\"Plot\",\"subtype\":\"Figure\",\"id\":\"38bd9b0b-8d2c-432c-c33c-6353b5ddd497\"},\"id\":\"49639db4-a51b-49a2-c935-bff03b70d736\"},\"id\":\"49639db4-a51b-49a2-c935-bff03b70d736\"},{\"type\":\"Plot\",\"attributes\":{\"right\":[],\"extra_y_ranges\":{},\"x_range\":{\"type\":\"DataRange1d\",\"id\":\"75deb4e1-de4b-4277-c2b6-03402a290f7d\"},\"id\":\"38bd9b0b-8d2c-432c-c33c-6353b5ddd497\",\"doc\":null,\"title\":\"ABPd-0->24-mean\",\"renderers\":[{\"type\":\"GlyphRenderer\",\"id\":\"bb20367c-45be-4187-c160-91a65e1b87ee\"},{\"type\":\"LinearAxis\",\"id\":\"bb1614d0-945b-49bc-c939-478134e839e5\"},{\"type\":\"Grid\",\"id\":\"ba89f1af-8906-4b2e-cb32-cc24feeefc78\"},{\"type\":\"LinearAxis\",\"id\":\"70af5f75-a406-4cb3-ccd2-c2d320ffe43a\"},{\"type\":\"Grid\",\"id\":\"d8f84276-0c60-46a2-c679-e3d3417d7849\"}],\"tools\":[{\"type\":\"PanTool\",\"id\":\"78b1c040-27e8-48fc-c89a-a00850c8fc2e\"},{\"type\":\"WheelZoomTool\",\"id\":\"58a0b646-0879-4622-c6ba-6be7f1680868\"},{\"type\":\"BoxZoomTool\",\"id\":\"90cd3bab-7862-4102-c12a-1a4193098f73\"},{\"type\":\"PreviewSaveTool\",\"id\":\"7d2b0a47-170c-4ac1-ca4a-6685398c9c2b\"},{\"type\":\"ResizeTool\",\"id\":\"79655b13-5385-4dc0-cd9f-9c4590daca1a\"},{\"type\":\"ResetTool\",\"id\":\"49639db4-a51b-49a2-c935-bff03b70d736\"}],\"left\":[{\"type\":\"LinearAxis\",\"id\":\"70af5f75-a406-4cb3-ccd2-c2d320ffe43a\"}],\"above\":[],\"extra_x_ranges\":{},\"tags\":[],\"tool_events\":{\"type\":\"ToolEvents\",\"id\":\"6761a806-b16f-4d65-cdfb-ac8a32d052d3\"},\"y_range\":{\"type\":\"DataRange1d\",\"id\":\"c77fc70e-c027-4bdd-cb74-9efe64b30c3f\"},\"below\":[{\"type\":\"LinearAxis\",\"id\":\"bb1614d0-945b-49bc-c939-478134e839e5\"}]},\"id\":\"38bd9b0b-8d2c-432c-c33c-6353b5ddd497\"}];\n",
        "  Bokeh.load_models(all_models);\n",
        "  var model = Bokeh.Collections(modeltype).get(modelid);\n",
        "  $(\"#fc73a7e6-7404-4f02-cf0e-21bbb4c021ef\").html(''); // clear any previous plot in window_id\n",
        "  var view = new model.default_view({model: model, el: \"#fc73a7e6-7404-4f02-cf0e-21bbb4c021ef\"});\n",
        "    } else {\n",
        "  load_lib(bokehjs_url, function() {\n",
        "      console.log(\"Bokeh: BokehJS plotting callback run at\", new Date())\n",
        "      var modelid = \"38bd9b0b-8d2c-432c-c33c-6353b5ddd497\";\n",
        "      var modeltype = \"Plot\";\n",
        "      var all_models = [{\"type\":\"ColumnDataSource\",\"attributes\":{\"cont_ranges\":{},\"column_names\":[\"y1\",\"x1\",\"y0\",\"x0\"],\"data\":{\"y1\":[1,0,0,0,0,0,0,0,1,0,0,3,3,2,3,6,8,8,8,12,9,7,25,14,17,27,22,29,50,41,48,51,48,51,72,82,79,92,88,71,80,75,79,76,80,66,58,74,44,50,49,59,30,41,30,25,28,18,22,19,13,13,14,11,6,9,13,9,8,4,7,3,4,3,4,5,1,2,2,1,1,1,1,0,0,2,1,0,1,1,0,0,0,0,0,0,0,0,0,1],\"x1\":[21.576,22.341472910927,23.106945821855,23.872418732782,24.63789164371,25.403364554637,26.168837465565,26.934310376492,27.69978328742,28.465256198347,29.230729109275,29.996202020202,30.761674931129,31.527147842057,32.292620752984,33.058093663912,33.823566574839,34.589039485767,35.354512396694,36.119985307622,36.885458218549,37.650931129477,38.416404040404,39.181876951331,39.947349862259,40.712822773186,41.478295684114,42.243768595041,43.009241505969,43.774714416896,44.540187327824,45.305660238751,46.071133149679,46.836606060606,47.602078971534,48.367551882461,49.133024793388,49.898497704316,50.663970615243,51.429443526171,52.194916437098,52.960389348026,53.725862258953,54.491335169881,55.256808080808,56.022280991736,56.787753902663,57.55322681359,58.318699724518,59.084172635445,59.849645546373,60.6151184573,61.380591368228,62.146064279155,62.911537190083,63.67701010101,64.442483011938,65.207955922865,65.973428833792,66.73890174472,67.504374655647,68.269847566575,69.035320477502,69.80079338843,70.566266299357,71.331739210285,72.097212121212,72.86268503214,73.628157943067,74.393630853994,75.159103764922,75.924576675849,76.690049586777,77.455522497704,78.220995408632,78.986468319559,79.751941230487,80.517414141414,81.282887052342,82.048359963269,82.813832874197,83.579305785124,84.344778696051,85.110251606979,85.875724517906,86.641197428834,87.406670339761,88.172143250689,88.937616161616,89.703089072544,90.468561983471,91.234034894399,91.999507805326,92.764980716253,93.530453627181,94.295926538108,95.061399449036,95.826872359963,96.592345270891,97.357818181818],\"y0\":[0,0,0,0,0,0,0,0,0,0,0,0,0,0,0,0,0,0,0,0,0,0,0,0,0,0,0,0,0,0,0,0,0,0,0,0,0,0,0,0,0,0,0,0,0,0,0,0,0,0,0,0,0,0,0,0,0,0,0,0,0,0,0,0,0,0,0,0,0,0,0,0,0,0,0,0,0,0,0,0,0,0,0,0,0,0,0,0,0,0,0,0,0,0,0,0,0,0,0,0],\"x0\":[20.818181818182,21.583654729109,22.349127640037,23.114600550964,23.880073461892,24.645546372819,25.411019283747,26.176492194674,26.941965105601,27.707438016529,28.472910927456,29.238383838384,30.003856749311,30.769329660239,31.534802571166,32.300275482094,33.065748393021,33.831221303949,34.596694214876,35.362167125803,36.127640036731,36.893112947658,37.658585858586,38.424058769513,39.189531680441,39.955004591368,40.720477502296,41.485950413223,42.251423324151,43.016896235078,43.782369146006,44.547842056933,45.31331496786,46.078787878788,46.844260789715,47.609733700643,48.37520661157,49.140679522498,49.906152433425,50.671625344353,51.43709825528,52.202571166208,52.968044077135,53.733516988062,54.49898989899,55.264462809917,56.029935720845,56.795408631772,57.5608815427,58.326354453627,59.091827364555,59.857300275482,60.62277318641,61.388246097337,62.153719008264,62.919191919192,63.684664830119,64.450137741047,65.215610651974,65.981083562902,66.746556473829,67.512029384757,68.277502295684,69.042975206612,69.808448117539,70.573921028466,71.339393939394,72.104866850321,72.870339761249,73.635812672176,74.401285583104,75.166758494031,75.932231404959,76.697704315886,77.463177226814,78.228650137741,78.994123048668,79.759595959596,80.525068870523,81.290541781451,82.056014692378,82.821487603306,83.586960514233,84.352433425161,85.117906336088,85.883379247016,86.648852157943,87.414325068871,88.179797979798,88.945270890725,89.710743801653,90.47621671258,91.241689623508,92.007162534435,92.772635445363,93.53810835629,94.303581267218,95.069054178145,95.834527089073,96.6]},\"selected\":[],\"tags\":[],\"doc\":null,\"discrete_ranges\":{},\"id\":\"38e71985-908a-4f41-cfdb-a4f2127a8589\"},\"id\":\"38e71985-908a-4f41-cfdb-a4f2127a8589\"},{\"type\":\"Quad\",\"attributes\":{\"right\":{\"units\":\"data\",\"field\":\"x1\"},\"bottom\":{\"units\":\"data\",\"field\":\"y0\"},\"id\":\"fb1c0a8c-3974-4ba7-cb54-d027d9fce98f\",\"doc\":null,\"fill_color\":{\"value\":\"red\"},\"left\":{\"units\":\"data\",\"field\":\"x0\"},\"fill_alpha\":{\"units\":\"data\",\"value\":0.7},\"line_alpha\":{\"units\":\"data\",\"value\":1},\"tags\":[],\"line_color\":{\"value\":\"red\"},\"top\":{\"units\":\"data\",\"field\":\"y1\"}},\"id\":\"fb1c0a8c-3974-4ba7-cb54-d027d9fce98f\"},{\"type\":\"Quad\",\"attributes\":{\"right\":{\"units\":\"data\",\"field\":\"x1\"},\"bottom\":{\"units\":\"data\",\"field\":\"y0\"},\"id\":\"3d45818a-b5bc-48e0-c871-129881dfe385\",\"doc\":null,\"fill_color\":{\"value\":\"red\"},\"left\":{\"units\":\"data\",\"field\":\"x0\"},\"fill_alpha\":{\"units\":\"data\",\"value\":0.7},\"line_alpha\":{\"units\":\"data\",\"value\":1},\"tags\":[],\"line_color\":{\"value\":\"red\"},\"top\":{\"units\":\"data\",\"field\":\"y1\"}},\"id\":\"3d45818a-b5bc-48e0-c871-129881dfe385\"},{\"type\":\"GlyphRenderer\",\"attributes\":{\"data_source\":{\"type\":\"ColumnDataSource\",\"id\":\"38e71985-908a-4f41-cfdb-a4f2127a8589\"},\"id\":\"bb20367c-45be-4187-c160-91a65e1b87ee\",\"server_data_source\":null,\"doc\":null,\"nonselection_glyph\":{\"type\":\"Quad\",\"id\":\"3d45818a-b5bc-48e0-c871-129881dfe385\"},\"glyph\":{\"type\":\"Quad\",\"id\":\"fb1c0a8c-3974-4ba7-cb54-d027d9fce98f\"},\"tags\":[],\"name\":null,\"selection_glyph\":null},\"id\":\"bb20367c-45be-4187-c160-91a65e1b87ee\"},{\"type\":\"DataRange1d\",\"attributes\":{\"tags\":[],\"doc\":null,\"sources\":[{\"source\":{\"type\":\"ColumnDataSource\",\"id\":\"38e71985-908a-4f41-cfdb-a4f2127a8589\"},\"columns\":[\"x1\",\"x0\"]}],\"id\":\"75deb4e1-de4b-4277-c2b6-03402a290f7d\"},\"id\":\"75deb4e1-de4b-4277-c2b6-03402a290f7d\"},{\"type\":\"DataRange1d\",\"attributes\":{\"tags\":[],\"doc\":null,\"sources\":[{\"source\":{\"type\":\"ColumnDataSource\",\"id\":\"38e71985-908a-4f41-cfdb-a4f2127a8589\"},\"columns\":[\"y1\",\"y0\"]}],\"id\":\"c77fc70e-c027-4bdd-cb74-9efe64b30c3f\"},\"id\":\"c77fc70e-c027-4bdd-cb74-9efe64b30c3f\"},{\"type\":\"ToolEvents\",\"attributes\":{\"tags\":[],\"doc\":null,\"geometries\":[],\"id\":\"6761a806-b16f-4d65-cdfb-ac8a32d052d3\"},\"id\":\"6761a806-b16f-4d65-cdfb-ac8a32d052d3\"},{\"type\":\"BasicTickFormatter\",\"attributes\":{\"tags\":[],\"doc\":null,\"id\":\"94195310-aa19-4ca4-ccff-ddd71d30ae2e\"},\"id\":\"94195310-aa19-4ca4-ccff-ddd71d30ae2e\"},{\"type\":\"BasicTicker\",\"attributes\":{\"tags\":[],\"doc\":null,\"num_minor_ticks\":5,\"id\":\"1a51a132-5544-45d0-c517-c7413397c262\"},\"id\":\"1a51a132-5544-45d0-c517-c7413397c262\"},{\"type\":\"LinearAxis\",\"attributes\":{\"plot\":{\"type\":\"Plot\",\"subtype\":\"Figure\",\"id\":\"38bd9b0b-8d2c-432c-c33c-6353b5ddd497\"},\"ticker\":{\"type\":\"BasicTicker\",\"id\":\"1a51a132-5544-45d0-c517-c7413397c262\"},\"id\":\"bb1614d0-945b-49bc-c939-478134e839e5\",\"tags\":[],\"doc\":null,\"formatter\":{\"type\":\"BasicTickFormatter\",\"id\":\"94195310-aa19-4ca4-ccff-ddd71d30ae2e\"},\"axis_label\":\"value\"},\"id\":\"bb1614d0-945b-49bc-c939-478134e839e5\"},{\"type\":\"Grid\",\"attributes\":{\"plot\":{\"type\":\"Plot\",\"subtype\":\"Figure\",\"id\":\"38bd9b0b-8d2c-432c-c33c-6353b5ddd497\"},\"id\":\"ba89f1af-8906-4b2e-cb32-cc24feeefc78\",\"tags\":[],\"doc\":null,\"ticker\":{\"type\":\"BasicTicker\",\"id\":\"1a51a132-5544-45d0-c517-c7413397c262\"},\"dimension\":0},\"id\":\"ba89f1af-8906-4b2e-cb32-cc24feeefc78\"},{\"type\":\"BasicTickFormatter\",\"attributes\":{\"tags\":[],\"doc\":null,\"id\":\"6a3bde1f-0946-44d8-c4ae-464b440e8a88\"},\"id\":\"6a3bde1f-0946-44d8-c4ae-464b440e8a88\"},{\"type\":\"BasicTicker\",\"attributes\":{\"tags\":[],\"doc\":null,\"num_minor_ticks\":5,\"id\":\"c2b03050-7182-4818-c81f-517947bf8a35\"},\"id\":\"c2b03050-7182-4818-c81f-517947bf8a35\"},{\"type\":\"LinearAxis\",\"attributes\":{\"plot\":{\"type\":\"Plot\",\"subtype\":\"Figure\",\"id\":\"38bd9b0b-8d2c-432c-c33c-6353b5ddd497\"},\"ticker\":{\"type\":\"BasicTicker\",\"id\":\"c2b03050-7182-4818-c81f-517947bf8a35\"},\"id\":\"70af5f75-a406-4cb3-ccd2-c2d320ffe43a\",\"tags\":[],\"doc\":null,\"formatter\":{\"type\":\"BasicTickFormatter\",\"id\":\"6a3bde1f-0946-44d8-c4ae-464b440e8a88\"},\"axis_label\":\"freq\"},\"id\":\"70af5f75-a406-4cb3-ccd2-c2d320ffe43a\"},{\"type\":\"Grid\",\"attributes\":{\"plot\":{\"type\":\"Plot\",\"subtype\":\"Figure\",\"id\":\"38bd9b0b-8d2c-432c-c33c-6353b5ddd497\"},\"id\":\"d8f84276-0c60-46a2-c679-e3d3417d7849\",\"tags\":[],\"doc\":null,\"ticker\":{\"type\":\"BasicTicker\",\"id\":\"c2b03050-7182-4818-c81f-517947bf8a35\"},\"dimension\":1},\"id\":\"d8f84276-0c60-46a2-c679-e3d3417d7849\"},{\"type\":\"PanTool\",\"attributes\":{\"plot\":{\"type\":\"Plot\",\"subtype\":\"Figure\",\"id\":\"38bd9b0b-8d2c-432c-c33c-6353b5ddd497\"},\"id\":\"78b1c040-27e8-48fc-c89a-a00850c8fc2e\",\"tags\":[],\"doc\":null,\"dimensions\":[\"width\",\"height\"]},\"id\":\"78b1c040-27e8-48fc-c89a-a00850c8fc2e\"},{\"type\":\"WheelZoomTool\",\"attributes\":{\"plot\":{\"type\":\"Plot\",\"subtype\":\"Figure\",\"id\":\"38bd9b0b-8d2c-432c-c33c-6353b5ddd497\"},\"id\":\"58a0b646-0879-4622-c6ba-6be7f1680868\",\"tags\":[],\"doc\":null,\"dimensions\":[\"width\",\"height\"]},\"id\":\"58a0b646-0879-4622-c6ba-6be7f1680868\"},{\"type\":\"BoxZoomTool\",\"attributes\":{\"tags\":[],\"doc\":null,\"plot\":{\"type\":\"Plot\",\"subtype\":\"Figure\",\"id\":\"38bd9b0b-8d2c-432c-c33c-6353b5ddd497\"},\"id\":\"90cd3bab-7862-4102-c12a-1a4193098f73\"},\"id\":\"90cd3bab-7862-4102-c12a-1a4193098f73\"},{\"type\":\"PreviewSaveTool\",\"attributes\":{\"tags\":[],\"doc\":null,\"plot\":{\"type\":\"Plot\",\"subtype\":\"Figure\",\"id\":\"38bd9b0b-8d2c-432c-c33c-6353b5ddd497\"},\"id\":\"7d2b0a47-170c-4ac1-ca4a-6685398c9c2b\"},\"id\":\"7d2b0a47-170c-4ac1-ca4a-6685398c9c2b\"},{\"type\":\"ResizeTool\",\"attributes\":{\"tags\":[],\"doc\":null,\"plot\":{\"type\":\"Plot\",\"subtype\":\"Figure\",\"id\":\"38bd9b0b-8d2c-432c-c33c-6353b5ddd497\"},\"id\":\"79655b13-5385-4dc0-cd9f-9c4590daca1a\"},\"id\":\"79655b13-5385-4dc0-cd9f-9c4590daca1a\"},{\"type\":\"ResetTool\",\"attributes\":{\"tags\":[],\"doc\":null,\"plot\":{\"type\":\"Plot\",\"subtype\":\"Figure\",\"id\":\"38bd9b0b-8d2c-432c-c33c-6353b5ddd497\"},\"id\":\"49639db4-a51b-49a2-c935-bff03b70d736\"},\"id\":\"49639db4-a51b-49a2-c935-bff03b70d736\"},{\"type\":\"Plot\",\"attributes\":{\"right\":[],\"extra_y_ranges\":{},\"x_range\":{\"type\":\"DataRange1d\",\"id\":\"75deb4e1-de4b-4277-c2b6-03402a290f7d\"},\"id\":\"38bd9b0b-8d2c-432c-c33c-6353b5ddd497\",\"doc\":null,\"title\":\"ABPd-0->24-mean\",\"renderers\":[{\"type\":\"GlyphRenderer\",\"id\":\"bb20367c-45be-4187-c160-91a65e1b87ee\"},{\"type\":\"LinearAxis\",\"id\":\"bb1614d0-945b-49bc-c939-478134e839e5\"},{\"type\":\"Grid\",\"id\":\"ba89f1af-8906-4b2e-cb32-cc24feeefc78\"},{\"type\":\"LinearAxis\",\"id\":\"70af5f75-a406-4cb3-ccd2-c2d320ffe43a\"},{\"type\":\"Grid\",\"id\":\"d8f84276-0c60-46a2-c679-e3d3417d7849\"}],\"tools\":[{\"type\":\"PanTool\",\"id\":\"78b1c040-27e8-48fc-c89a-a00850c8fc2e\"},{\"type\":\"WheelZoomTool\",\"id\":\"58a0b646-0879-4622-c6ba-6be7f1680868\"},{\"type\":\"BoxZoomTool\",\"id\":\"90cd3bab-7862-4102-c12a-1a4193098f73\"},{\"type\":\"PreviewSaveTool\",\"id\":\"7d2b0a47-170c-4ac1-ca4a-6685398c9c2b\"},{\"type\":\"ResizeTool\",\"id\":\"79655b13-5385-4dc0-cd9f-9c4590daca1a\"},{\"type\":\"ResetTool\",\"id\":\"49639db4-a51b-49a2-c935-bff03b70d736\"}],\"left\":[{\"type\":\"LinearAxis\",\"id\":\"70af5f75-a406-4cb3-ccd2-c2d320ffe43a\"}],\"above\":[],\"extra_x_ranges\":{},\"tags\":[],\"tool_events\":{\"type\":\"ToolEvents\",\"id\":\"6761a806-b16f-4d65-cdfb-ac8a32d052d3\"},\"y_range\":{\"type\":\"DataRange1d\",\"id\":\"c77fc70e-c027-4bdd-cb74-9efe64b30c3f\"},\"below\":[{\"type\":\"LinearAxis\",\"id\":\"bb1614d0-945b-49bc-c939-478134e839e5\"}]},\"id\":\"38bd9b0b-8d2c-432c-c33c-6353b5ddd497\"}];\n",
        "      Bokeh.load_models(all_models);\n",
        "      var model = Bokeh.Collections(modeltype).get(modelid);\n",
        "      $(\"#fc73a7e6-7404-4f02-cf0e-21bbb4c021ef\").html(''); // clear any previous plot in window_id\n",
        "      var view = new model.default_view({model: model, el: \"#fc73a7e6-7404-4f02-cf0e-21bbb4c021ef\"});\n",
        "  });\n",
        "    }\n",
        "});\n",
        "</script>\n",
        "<div class=\"plotdiv\" id=\"ae0cac3b-e2e6-4604-c6ee-599419a12508\"></div>\n"
       ],
       "metadata": {},
       "output_type": "display_data"
      }
     ],
     "prompt_number": 7
    },
    {
     "cell_type": "code",
     "collapsed": false,
     "input": [
      "X_train, y_train, X_test, y_test = helpers.split_data(X, y, 0.9)\n",
      "X_train, y_train, X_valid, y_valid = helpers.split_data(X_train, y_train, 0.8)\n",
      "\n",
      "datasets = {train={X_train, y_train}, valid={X_valid, y_valid}, test={X_test, y_test}}\n",
      "for k, v in pairs(datasets) do\n",
      "    inputs = datasets[k][1]\n",
      "    targets = datasets[k][2]\n",
      "    \n",
      "    if torch.max(targets) == 1 then\n",
      "        targets:add(1)\n",
      "    end\n",
      "\n",
      "    \n",
      "    torch.ne(col_view, nan_value)\n",
      "    \n",
      "    inputs_v = dp.DataView(inputs)\n",
      "    targets_v = dp.ClassView(targets)\n",
      "    targets_v:setClasses({0, 1})\n",
      "    \n",
      "    inputs_v:forward('bf', inputs)\n",
      "    targets_v:forward('b', targets)\n",
      "    datasets[k] = dp.DataSet({inputs = inputs_v, targets=targets_v, which_set=k})\n",
      "end\n"
     ],
     "language": "python",
     "metadata": {},
     "outputs": [],
     "prompt_number": 8
    },
    {
     "cell_type": "code",
     "collapsed": false,
     "input": [
      "datasource = dp.DataSource({train_set=datasets['train'], \n",
      "                            valid_set=datasets['valid'], \n",
      "                            test_set=datasets['test'],\n",
      "                            input_preprocess = dp.Standardize()})\n",
      "\n",
      "datasource._classes = {0, 1}\n",
      "datasource._feature_size = X:size(2)\n",
      "datasource._name = \"health\""
     ],
     "language": "python",
     "metadata": {},
     "outputs": [],
     "prompt_number": 9
    },
    {
     "cell_type": "code",
     "collapsed": false,
     "input": [
      "-- hyperparams\n",
      "opt= {\n",
      "    nHidden = {300, 300, 300},\n",
      "    momentum = 0.5,\n",
      "    learningRate = 0.1,\n",
      "    batchSize = 100,\n",
      "    progress = false,\n",
      "    maxEpoch = 100,\n",
      "    maxTries = 10\n",
      "}"
     ],
     "language": "python",
     "metadata": {},
     "outputs": [],
     "prompt_number": 27
    },
    {
     "cell_type": "code",
     "collapsed": false,
     "input": [
      "mlp = dp.Sequential{\n",
      "   models = {\n",
      "      dp.Neural{\n",
      "         input_size = datasource:featureSize(), \n",
      "         output_size = opt.nHidden[1], \n",
      "         transfer = nn.ReLU(),\n",
      "         dropout = nn.Dropout(0.5)\n",
      "      },    \n",
      "      dp.Neural{\n",
      "         input_size = opt.nHidden[1], \n",
      "         output_size = opt.nHidden[2], \n",
      "         transfer = nn.ReLU(),\n",
      "         dropout = nn.Dropout(0.5)\n",
      "      },\n",
      "      dp.Neural{\n",
      "         input_size = opt.nHidden[2], \n",
      "         output_size = opt.nHidden[3], \n",
      "         transfer = nn.ReLU(),\n",
      "         dropout = nn.Dropout(0.5)\n",
      "      },\n",
      "      dp.Neural{\n",
      "         input_size = opt.nHidden[3],\n",
      "         output_size = #(datasource:classes()),\n",
      "         transfer = nn.LogSoftMax(),\n",
      "      }\n",
      "   }\n",
      "}"
     ],
     "language": "python",
     "metadata": {},
     "outputs": [],
     "prompt_number": 28
    },
    {
     "cell_type": "code",
     "collapsed": false,
     "input": [
      "--[[Propagators]]--\n",
      "train = dp.Optimizer{\n",
      "   loss = dp.NLL(),\n",
      "   visitor = { -- the ordering here is important:\n",
      "      dp.Momentum{momentum_factor = opt.momentum},\n",
      "      dp.Learn{\n",
      "         learning_rate = opt.learningRate, \n",
      "         --observer = dp.LearningRateSchedule{\n",
      "         --   schedule = {[200]=0.01, [400]=0.001}\n",
      "         --}\n",
      "      },\n",
      "      dp.WeightDecay{\n",
      "        wd_factor=0.1\n",
      "      }\n",
      "      --dp.MaxNorm{max_out_norm = opt.maxOutNorm}\n",
      "   },\n",
      "   feedback = dp.Confusion(),\n",
      "   sampler = dp.ShuffleSampler{batch_size = opt.batchSize},\n",
      "   progress = opt.progress\n",
      "}\n",
      "\n",
      "valid = dp.Evaluator{\n",
      "   loss = dp.NLL(),\n",
      "   feedback = dp.Confusion(),  \n",
      "   sampler = dp.Sampler()\n",
      "}\n",
      "test = dp.Evaluator{\n",
      "   loss = dp.NLL(),\n",
      "   feedback = dp.Confusion(),\n",
      "   sampler = dp.Sampler()\n",
      "}\n"
     ],
     "language": "python",
     "metadata": {},
     "outputs": [],
     "prompt_number": 12
    },
    {
     "cell_type": "code",
     "collapsed": false,
     "input": [
      "--[[Experiment]]--\n",
      "xp = dp.Experiment{\n",
      "   model = mlp,\n",
      "   optimizer = train,\n",
      "   validator = valid,\n",
      "   tester = test,\n",
      "   observer = {\n",
      "    --  dp.EarlyStopper{\n",
      "    --     error_report =  {'validator','feedback','confusion','accuracy'},\n",
      "    --     maximize = true,\n",
      "     --    max_epochs = opt.maxTries\n",
      "    --  },\n",
      "      dp.SaveReport(),\n",
      "\n",
      "   },\n",
      "   random_seed = os.time(),\n",
      "   max_epoch = opt.maxEpoch\n",
      "}\n",
      "xp:run(datasource)"
     ],
     "language": "python",
     "metadata": {},
     "outputs": [
      {
       "metadata": {},
       "output_type": "pyout",
       "prompt_number": 13,
       "text": [
        "\u001b[1;31mmissing argument: model\u001b[0m\n",
        "+++++++++++++++++++++++++++++++++++++++++++++++++++++++++++++++++++++\n",
        "\u001b[1;35mExperiment\u001b[0m\n",
        "\n",
        "An Experiment to be performed using a Model, Propagators and a DataSource\n",
        "\n",
        "\u001b[0;34m> \u001b[0musage:\n",
        "\u001b[0;36mExperiment{\n",
        "    [id = dp.ObjectID]                  -- uniquely identifies the experiment. Defaults to using dp.uniqueID() to initialize a dp.ObjectID\n",
        "    model = dp.Model | nn.Module        -- Model instance shared by all Propagators.\n",
        "    [optimizer = dp.Optimizer]          -- Optimizer instance used for propagating the train set\n",
        "    [validator = dp.Evaluator]          -- Evaluator instance used for propagating the valid set\n",
        "    [tester = dp.Evaluator]             -- Evaluator instance used for propagating the test set\n",
        "    [observer = dp.Observer]            -- Observer instance used for extending the Experiment\n",
        "    [random_seed = number]              -- number used to initialize the random number generator  [default = 7]\n",
        "    [epoch = number]                    -- Epoch at which to start the experiment.  [default = 0]\n",
        "    [mediator = dp.Mediator]            -- used for inter-object communication. defaults to dp.Mediator()\n",
        "    [overwrite = boolean]               -- Overwrite existing values. For example, if a datasource is provided, and optimizer is already initialized with a dataset, and overwrite is true, then optimizer would be setup with datasource:trainSet()  [default = false]\n",
        "    [max_epoch = number]                -- Maximum number of epochs allocated to the experiment  [default = 1000]\n",
        "    [description = string]              -- A short description of the experiment  [default = ]\n",
        "}\n",
        "\u001b[0m\n",
        "\u001b[0;36mExperiment{model=dp.Model | nn.Module, id=dp.ObjectID}\n",
        "Experiment(dp.ObjectID, ...)\u001b[0m\n",
        "+++++++++++++++++++++++++++++++++++++++++++++++++++++++++++++++++++++:\n",
        "{}\n"
       ]
      },
      {
       "ename": "/home/mehdi/local/share/lua/5.1/xlua/init.lua:311: \u001b[1;31merror\u001b[0m\nstack traceback:\n\t[C]: in function 'error'\n\t/home/mehdi/local/share/lua/5.1/xlua/init.lua:311: in function 'error'\n\t/home/mehdi/local/share/lua/5.1/xlua/init.lua:504: in function 'unpack'\n\t...e/mehdi/local/share/lua/5.1/dp/propagator/experiment.lua:34: in function '__init'\n\t/home/mehdi/local/share/lua/5.1/torch/init.lua:51: in function </home/mehdi/local/share/lua/5.1/torch/init.lua:47>\n\t[C]: in function 'Experiment'\n\t[string \"--[[Experiment]]--...\"]:2: in main chunk\n\t[C]: in function 'xpcall'\n\t/home/mehdi/local/share/lua/5.1/itorch/main.lua:173: in function </home/mehdi/local/share/lua/5.1/itorch/main.lua:139>\n\t/home/mehdi/local/share/lua/5.1/lzmq/poller.lua:75: in function 'poll'\n\t/home/mehdi/local/share/lua/5.1/lzmq/impl/loop.lua:307: in function 'poll'\n\t/home/mehdi/local/share/lua/5.1/lzmq/impl/loop.lua:325: in function 'sleep_ex'\n\t/home/mehdi/local/share/lua/5.1/lzmq/impl/loop.lua:370: in function 'start'\n\t/home/mehdi/local/share/lua/5.1/itorch/main.lua:340: in main chunk\n\t[C]: in function 'require'\n\t(command line):1: in main chunk\n\t[C]: at 0x0804db50",
       "evalue": "",
       "output_type": "pyerr",
       "traceback": [
        "/home/mehdi/local/share/lua/5.1/xlua/init.lua:311: \u001b[1;31merror\u001b[0m\nstack traceback:\n\t[C]: in function 'error'\n\t/home/mehdi/local/share/lua/5.1/xlua/init.lua:311: in function 'error'\n\t/home/mehdi/local/share/lua/5.1/xlua/init.lua:504: in function 'unpack'\n\t...e/mehdi/local/share/lua/5.1/dp/propagator/experiment.lua:34: in function '__init'\n\t/home/mehdi/local/share/lua/5.1/torch/init.lua:51: in function </home/mehdi/local/share/lua/5.1/torch/init.lua:47>\n\t[C]: in function 'Experiment'\n\t[string \"--[[Experiment]]--...\"]:2: in main chunk\n\t[C]: in function 'xpcall'\n\t/home/mehdi/local/share/lua/5.1/itorch/main.lua:173: in function </home/mehdi/local/share/lua/5.1/itorch/main.lua:139>\n\t/home/mehdi/local/share/lua/5.1/lzmq/poller.lua:75: in function 'poll'\n\t/home/mehdi/local/share/lua/5.1/lzmq/impl/loop.lua:307: in function 'poll'\n\t/home/mehdi/local/share/lua/5.1/lzmq/impl/loop.lua:325: in function 'sleep_ex'\n\t/home/mehdi/local/share/lua/5.1/lzmq/impl/loop.lua:370: in function 'start'\n\t/home/mehdi/local/share/lua/5.1/itorch/main.lua:340: in main chunk\n\t[C]: in function 'require'\n\t(command line):1: in main chunk\n\t[C]: at 0x0804db50"
       ]
      }
     ],
     "prompt_number": 13
    },
    {
     "cell_type": "code",
     "collapsed": false,
     "input": [
      "reports = (xp._observer._observers[1]._reports)\n",
      "train_error = {}\n",
      "valid_error = {}\n",
      "test_error = {}\n",
      "\n",
      "for k=1,#(reports) do\n",
      "    train_error[k] = 100*(1-reports[k].optimizer.feedback.confusion.accuracy)\n",
      "    valid_error[k] = 100*(1-reports[k].validator.feedback.confusion.accuracy)\n",
      "    test_error[k] = 100*(1-reports[k].tester.feedback.confusion.accuracy)\n",
      "    \n",
      "end\n",
      "Plot = require 'itorch.Plot'\n",
      "\n",
      "\n",
      "epochs = torch.range(1,#reports)\n",
      "plot = Plot()\n",
      "plot = plot:line(epochs, train_error,'red','train error (%)')\n",
      "plot = plot:line(epochs, valid_error,'blue','valid error (%)')\n",
      "plot = plot:line(epochs, test_error,'green','test error (%)')\n",
      "plot = plot:legend(true):title('Error')\n",
      "plot:draw()\n"
     ],
     "language": "python",
     "metadata": {},
     "outputs": [
      {
       "ename": "[string \"reports = (xp._observer._observers[1]._report...\"]:1: attempt to index global 'xp' (a nil value)\nstack traceback:\n\t[string \"reports = (xp._observer._observers[1]._report...\"]:1: in main chunk\n\t[C]: in function 'xpcall'\n\t/home/mehdi/local/share/lua/5.1/itorch/main.lua:173: in function </home/mehdi/local/share/lua/5.1/itorch/main.lua:139>\n\t/home/mehdi/local/share/lua/5.1/lzmq/poller.lua:75: in function 'poll'\n\t/home/mehdi/local/share/lua/5.1/lzmq/impl/loop.lua:307: in function 'poll'\n\t/home/mehdi/local/share/lua/5.1/lzmq/impl/loop.lua:325: in function 'sleep_ex'\n\t/home/mehdi/local/share/lua/5.1/lzmq/impl/loop.lua:370: in function 'start'\n\t/home/mehdi/local/share/lua/5.1/itorch/main.lua:340: in main chunk\n\t[C]: in function 'require'\n\t(command line):1: in main chunk\n\t[C]: at 0x0804db50",
       "evalue": "",
       "output_type": "pyerr",
       "traceback": [
        "[string \"reports = (xp._observer._observers[1]._report...\"]:1: attempt to index global 'xp' (a nil value)\nstack traceback:\n\t[string \"reports = (xp._observer._observers[1]._report...\"]:1: in main chunk\n\t[C]: in function 'xpcall'\n\t/home/mehdi/local/share/lua/5.1/itorch/main.lua:173: in function </home/mehdi/local/share/lua/5.1/itorch/main.lua:139>\n\t/home/mehdi/local/share/lua/5.1/lzmq/poller.lua:75: in function 'poll'\n\t/home/mehdi/local/share/lua/5.1/lzmq/impl/loop.lua:307: in function 'poll'\n\t/home/mehdi/local/share/lua/5.1/lzmq/impl/loop.lua:325: in function 'sleep_ex'\n\t/home/mehdi/local/share/lua/5.1/lzmq/impl/loop.lua:370: in function 'start'\n\t/home/mehdi/local/share/lua/5.1/itorch/main.lua:340: in main chunk\n\t[C]: in function 'require'\n\t(command line):1: in main chunk\n\t[C]: at 0x0804db50"
       ]
      }
     ],
     "prompt_number": 14
    }
   ],
   "metadata": {}
  }
 ]
}