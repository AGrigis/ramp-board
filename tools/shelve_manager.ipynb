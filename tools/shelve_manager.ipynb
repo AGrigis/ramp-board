{
 "cells": [
  {
   "cell_type": "code",
   "execution_count": 1,
   "metadata": {
    "collapsed": true
   },
   "outputs": [],
   "source": [
    "import shelve "
   ]
  },
  {
   "cell_type": "code",
   "execution_count": 2,
   "metadata": {
    "collapsed": false
   },
   "outputs": [],
   "source": [
    "from enum import Enum\n",
    "ModelState = Enum('ModelState', 'new trained error')"
   ]
  },
  {
   "cell_type": "code",
   "execution_count": 3,
   "metadata": {
    "collapsed": false
   },
   "outputs": [],
   "source": [
    "db = shelve.open('../shelve.db', 'c')"
   ]
  },
  {
   "cell_type": "code",
   "execution_count": 4,
   "metadata": {
    "collapsed": true
   },
   "outputs": [],
   "source": [
    "models = db['models']"
   ]
  },
  {
   "cell_type": "code",
   "execution_count": 5,
   "metadata": {
    "collapsed": false
   },
   "outputs": [
    {
     "data": {
      "text/html": [
       "<div style=\"max-height:1000px;max-width:1500px;overflow:auto;\">\n",
       "<table border=\"1\" class=\"dataframe\">\n",
       "  <thead>\n",
       "    <tr style=\"text-align: right;\">\n",
       "      <th></th>\n",
       "      <th>listing</th>\n",
       "      <th>model</th>\n",
       "      <th>path</th>\n",
       "      <th>state</th>\n",
       "      <th>team</th>\n",
       "      <th>timestamp</th>\n",
       "    </tr>\n",
       "  </thead>\n",
       "  <tbody>\n",
       "    <tr>\n",
       "      <th>m61655a3f98e46fff71a1c74c0024455d6db49e1c</th>\n",
       "      <td>                                          model.py</td>\n",
       "      <td>    MF.AB(20;RF(100;5))</td>\n",
       "      <td> BK/m61655a3f98e46fff71a1c74c0024455d6db49e1c</td>\n",
       "      <td>   error</td>\n",
       "      <td> BK</td>\n",
       "      <td> 1424644111</td>\n",
       "    </tr>\n",
       "    <tr>\n",
       "      <th>m79de86116c96e83382fdaa8d814ae88c07829e15</th>\n",
       "      <td> example.py|helpers.lua|model.lua|model.py|mode...</td>\n",
       "      <td> MF.AB(20;RF(100;5))_d1</td>\n",
       "      <td> BK/m79de86116c96e83382fdaa8d814ae88c07829e15</td>\n",
       "      <td> trained</td>\n",
       "      <td> BK</td>\n",
       "      <td> 1424644219</td>\n",
       "    </tr>\n",
       "    <tr>\n",
       "      <th>m025f23c0d8fb04efb12ec7473e8d664e0b6d3f84</th>\n",
       "      <td>                                          model.py</td>\n",
       "      <td>    MF.AB(20;RF(100;6))</td>\n",
       "      <td> BK/m025f23c0d8fb04efb12ec7473e8d664e0b6d3f84</td>\n",
       "      <td> trained</td>\n",
       "      <td> BK</td>\n",
       "      <td> 1424644915</td>\n",
       "    </tr>\n",
       "    <tr>\n",
       "      <th>me3b8cd10be1817651a5a4963e64870629b4d566c</th>\n",
       "      <td>                                          model.py</td>\n",
       "      <td>    MF.AB(30;RF(100;5))</td>\n",
       "      <td> BK/me3b8cd10be1817651a5a4963e64870629b4d566c</td>\n",
       "      <td> trained</td>\n",
       "      <td> BK</td>\n",
       "      <td> 1424644610</td>\n",
       "    </tr>\n",
       "    <tr>\n",
       "      <th>mb0e2cb7df736bfe25392bae85f73150fe7f2a38c</th>\n",
       "      <td>                                          model.py</td>\n",
       "      <td>                rf(200)</td>\n",
       "      <td> BK/mb0e2cb7df736bfe25392bae85f73150fe7f2a38c</td>\n",
       "      <td> trained</td>\n",
       "      <td> BK</td>\n",
       "      <td> 1424619506</td>\n",
       "    </tr>\n",
       "    <tr>\n",
       "      <th>m7b997f982a7e707d78b425a4c650418bcf10b246</th>\n",
       "      <td>                                          model.py</td>\n",
       "      <td>                rf(250)</td>\n",
       "      <td> BK/m7b997f982a7e707d78b425a4c650418bcf10b246</td>\n",
       "      <td>   error</td>\n",
       "      <td> BK</td>\n",
       "      <td> 1424620530</td>\n",
       "    </tr>\n",
       "    <tr>\n",
       "      <th>mcbe8f322aff4d0f282d09b9b690381a074e7da66</th>\n",
       "      <td>                                          model.py</td>\n",
       "      <td>                rf(300)</td>\n",
       "      <td> BK/mcbe8f322aff4d0f282d09b9b690381a074e7da66</td>\n",
       "      <td> trained</td>\n",
       "      <td> BK</td>\n",
       "      <td> 1424555697</td>\n",
       "    </tr>\n",
       "    <tr>\n",
       "      <th>m6320fb24a9ebc89fa63f43a172240e31f00f4ad3</th>\n",
       "      <td>                                          model.py</td>\n",
       "      <td>                 rf(50)</td>\n",
       "      <td> BK/m6320fb24a9ebc89fa63f43a172240e31f00f4ad3</td>\n",
       "      <td>   error</td>\n",
       "      <td> BK</td>\n",
       "      <td> 1424621658</td>\n",
       "    </tr>\n",
       "    <tr>\n",
       "      <th>m626b15765f282f67e5a9d68e57285826ccf897b9</th>\n",
       "      <td>                                          model.py</td>\n",
       "      <td>         rf(50)debugged</td>\n",
       "      <td> BK/m626b15765f282f67e5a9d68e57285826ccf897b9</td>\n",
       "      <td> trained</td>\n",
       "      <td> BK</td>\n",
       "      <td> 1424627577</td>\n",
       "    </tr>\n",
       "  </tbody>\n",
       "</table>\n",
       "</div>"
      ],
      "text/plain": [
       "                                                                                     listing  \\\n",
       "m61655a3f98e46fff71a1c74c0024455d6db49e1c                                           model.py   \n",
       "m79de86116c96e83382fdaa8d814ae88c07829e15  example.py|helpers.lua|model.lua|model.py|mode...   \n",
       "m025f23c0d8fb04efb12ec7473e8d664e0b6d3f84                                           model.py   \n",
       "me3b8cd10be1817651a5a4963e64870629b4d566c                                           model.py   \n",
       "mb0e2cb7df736bfe25392bae85f73150fe7f2a38c                                           model.py   \n",
       "m7b997f982a7e707d78b425a4c650418bcf10b246                                           model.py   \n",
       "mcbe8f322aff4d0f282d09b9b690381a074e7da66                                           model.py   \n",
       "m6320fb24a9ebc89fa63f43a172240e31f00f4ad3                                           model.py   \n",
       "m626b15765f282f67e5a9d68e57285826ccf897b9                                           model.py   \n",
       "\n",
       "                                                            model  \\\n",
       "m61655a3f98e46fff71a1c74c0024455d6db49e1c     MF.AB(20;RF(100;5))   \n",
       "m79de86116c96e83382fdaa8d814ae88c07829e15  MF.AB(20;RF(100;5))_d1   \n",
       "m025f23c0d8fb04efb12ec7473e8d664e0b6d3f84     MF.AB(20;RF(100;6))   \n",
       "me3b8cd10be1817651a5a4963e64870629b4d566c     MF.AB(30;RF(100;5))   \n",
       "mb0e2cb7df736bfe25392bae85f73150fe7f2a38c                 rf(200)   \n",
       "m7b997f982a7e707d78b425a4c650418bcf10b246                 rf(250)   \n",
       "mcbe8f322aff4d0f282d09b9b690381a074e7da66                 rf(300)   \n",
       "m6320fb24a9ebc89fa63f43a172240e31f00f4ad3                  rf(50)   \n",
       "m626b15765f282f67e5a9d68e57285826ccf897b9          rf(50)debugged   \n",
       "\n",
       "                                                                                   path  \\\n",
       "m61655a3f98e46fff71a1c74c0024455d6db49e1c  BK/m61655a3f98e46fff71a1c74c0024455d6db49e1c   \n",
       "m79de86116c96e83382fdaa8d814ae88c07829e15  BK/m79de86116c96e83382fdaa8d814ae88c07829e15   \n",
       "m025f23c0d8fb04efb12ec7473e8d664e0b6d3f84  BK/m025f23c0d8fb04efb12ec7473e8d664e0b6d3f84   \n",
       "me3b8cd10be1817651a5a4963e64870629b4d566c  BK/me3b8cd10be1817651a5a4963e64870629b4d566c   \n",
       "mb0e2cb7df736bfe25392bae85f73150fe7f2a38c  BK/mb0e2cb7df736bfe25392bae85f73150fe7f2a38c   \n",
       "m7b997f982a7e707d78b425a4c650418bcf10b246  BK/m7b997f982a7e707d78b425a4c650418bcf10b246   \n",
       "mcbe8f322aff4d0f282d09b9b690381a074e7da66  BK/mcbe8f322aff4d0f282d09b9b690381a074e7da66   \n",
       "m6320fb24a9ebc89fa63f43a172240e31f00f4ad3  BK/m6320fb24a9ebc89fa63f43a172240e31f00f4ad3   \n",
       "m626b15765f282f67e5a9d68e57285826ccf897b9  BK/m626b15765f282f67e5a9d68e57285826ccf897b9   \n",
       "\n",
       "                                             state team   timestamp  \n",
       "m61655a3f98e46fff71a1c74c0024455d6db49e1c    error   BK  1424644111  \n",
       "m79de86116c96e83382fdaa8d814ae88c07829e15  trained   BK  1424644219  \n",
       "m025f23c0d8fb04efb12ec7473e8d664e0b6d3f84  trained   BK  1424644915  \n",
       "me3b8cd10be1817651a5a4963e64870629b4d566c  trained   BK  1424644610  \n",
       "mb0e2cb7df736bfe25392bae85f73150fe7f2a38c  trained   BK  1424619506  \n",
       "m7b997f982a7e707d78b425a4c650418bcf10b246    error   BK  1424620530  \n",
       "mcbe8f322aff4d0f282d09b9b690381a074e7da66  trained   BK  1424555697  \n",
       "m6320fb24a9ebc89fa63f43a172240e31f00f4ad3    error   BK  1424621658  \n",
       "m626b15765f282f67e5a9d68e57285826ccf897b9  trained   BK  1424627577  "
      ]
     },
     "execution_count": 5,
     "metadata": {},
     "output_type": "execute_result"
    }
   ],
   "source": [
    "models"
   ]
  },
  {
   "cell_type": "code",
   "execution_count": null,
   "metadata": {
    "collapsed": true
   },
   "outputs": [],
   "source": []
  }
 ],
 "metadata": {
  "kernelspec": {
   "display_name": "Python 2",
   "language": "python",
   "name": "python2"
  },
  "language_info": {
   "codemirror_mode": {
    "name": "ipython",
    "version": 2
   },
   "file_extension": ".py",
   "mimetype": "text/x-python",
   "name": "python",
   "nbconvert_exporter": "python",
   "pygments_lexer": "ipython2",
   "version": "2.7.9"
  }
 },
 "nbformat": 4,
 "nbformat_minor": 0
}
