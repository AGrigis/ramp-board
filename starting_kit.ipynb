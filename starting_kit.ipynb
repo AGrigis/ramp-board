{
 "metadata": {
  "name": "",
  "signature": "sha256:ce18dffe0dc4f8f7588ffbaecdc12835eceedea4dd6b0be80a5a5b8b927686b0"
 },
 "nbformat": 3,
 "nbformat_minor": 0,
 "worksheets": [
  {
   "cells": [
    {
     "cell_type": "markdown",
     "metadata": {},
     "source": [
      "### Starting kit on health care data"
     ]
    },
    {
     "cell_type": "code",
     "collapsed": false,
     "input": [
      "%matplotlib inline\n",
      "import numpy as np\n",
      "from scipy import io\n",
      "import matplotlib.pyplot as plt\n",
      "import pandas as pd"
     ],
     "language": "python",
     "metadata": {},
     "outputs": [],
     "prompt_number": 14
    },
    {
     "cell_type": "code",
     "collapsed": false,
     "input": [
      "data = io.loadmat('dataMarathon.mat')"
     ],
     "language": "python",
     "metadata": {},
     "outputs": [],
     "prompt_number": 2
    },
    {
     "cell_type": "code",
     "collapsed": false,
     "input": [
      "Z = np.c_[data['data_target'].astype(np.int), data['X']]"
     ],
     "language": "python",
     "metadata": {},
     "outputs": [],
     "prompt_number": 31
    },
    {
     "cell_type": "code",
     "collapsed": false,
     "input": [
      "columns = [u'TARGET'] + [d[0] for d in data['header'].ravel()]\n",
      "df = pd.DataFrame(Z, columns=columns)"
     ],
     "language": "python",
     "metadata": {},
     "outputs": [],
     "prompt_number": 32
    },
    {
     "cell_type": "code",
     "collapsed": false,
     "input": [
      "df.head()"
     ],
     "language": "python",
     "metadata": {},
     "outputs": [
      {
       "html": [
        "<div style=\"max-height:1000px;max-width:1500px;overflow:auto;\">\n",
        "<table border=\"1\" class=\"dataframe\">\n",
        "  <thead>\n",
        "    <tr style=\"text-align: right;\">\n",
        "      <th></th>\n",
        "      <th>TARGET</th>\n",
        "      <th>ADMISSION_SOURCE_DESCR</th>\n",
        "      <th>ADMISSION_TYPE_DESCR</th>\n",
        "      <th>AGE</th>\n",
        "      <th>AIDS</th>\n",
        "      <th>ALCOHOL_ABUSE</th>\n",
        "      <th>ALP-0-&gt;24-mean</th>\n",
        "      <th>ALP-0-&gt;24-min</th>\n",
        "      <th>ALP-0-&gt;24-max</th>\n",
        "      <th>ALP-0-&gt;24-std</th>\n",
        "      <th>...</th>\n",
        "      <th>ESEV-0-&gt;24-min_mv</th>\n",
        "      <th>ESEV-0-&gt;24-max_mv</th>\n",
        "      <th>ESEV-0-&gt;24-std_mv</th>\n",
        "      <th>Pressors-0-&gt;24-sum_mv</th>\n",
        "      <th>Urine-0-&gt;24-sum_mv</th>\n",
        "      <th>Saline-0-&gt;24-sum_mv</th>\n",
        "      <th>Ringers-0-&gt;24-sum_mv</th>\n",
        "      <th>Coloids-0-&gt;24-sum_mv</th>\n",
        "      <th>Insuline-0-&gt;24-sum_mv</th>\n",
        "      <th>Sedatives-0-&gt;24-sum_mv</th>\n",
        "    </tr>\n",
        "  </thead>\n",
        "  <tbody>\n",
        "    <tr>\n",
        "      <th>0</th>\n",
        "      <td> 0</td>\n",
        "      <td> 1</td>\n",
        "      <td> 3</td>\n",
        "      <td> 56.26</td>\n",
        "      <td> 0</td>\n",
        "      <td> 0</td>\n",
        "      <td> NaN</td>\n",
        "      <td> NaN</td>\n",
        "      <td> NaN</td>\n",
        "      <td>NaN</td>\n",
        "      <td>...</td>\n",
        "      <td> 0</td>\n",
        "      <td> 0</td>\n",
        "      <td> 0</td>\n",
        "      <td> 0</td>\n",
        "      <td> 0</td>\n",
        "      <td> 0</td>\n",
        "      <td> 0</td>\n",
        "      <td> 0</td>\n",
        "      <td> 0</td>\n",
        "      <td> 0</td>\n",
        "    </tr>\n",
        "    <tr>\n",
        "      <th>1</th>\n",
        "      <td> 0</td>\n",
        "      <td> 2</td>\n",
        "      <td> 3</td>\n",
        "      <td> 36.85</td>\n",
        "      <td> 0</td>\n",
        "      <td> 0</td>\n",
        "      <td> 182</td>\n",
        "      <td> 182</td>\n",
        "      <td> 182</td>\n",
        "      <td>  0</td>\n",
        "      <td>...</td>\n",
        "      <td> 0</td>\n",
        "      <td> 0</td>\n",
        "      <td> 0</td>\n",
        "      <td> 0</td>\n",
        "      <td> 0</td>\n",
        "      <td> 0</td>\n",
        "      <td> 0</td>\n",
        "      <td> 0</td>\n",
        "      <td> 0</td>\n",
        "      <td> 0</td>\n",
        "    </tr>\n",
        "    <tr>\n",
        "      <th>2</th>\n",
        "      <td> 0</td>\n",
        "      <td> 3</td>\n",
        "      <td> 1</td>\n",
        "      <td> 52.25</td>\n",
        "      <td> 0</td>\n",
        "      <td> 0</td>\n",
        "      <td> NaN</td>\n",
        "      <td> NaN</td>\n",
        "      <td> NaN</td>\n",
        "      <td>NaN</td>\n",
        "      <td>...</td>\n",
        "      <td> 0</td>\n",
        "      <td> 0</td>\n",
        "      <td> 0</td>\n",
        "      <td> 0</td>\n",
        "      <td> 0</td>\n",
        "      <td> 0</td>\n",
        "      <td> 0</td>\n",
        "      <td> 0</td>\n",
        "      <td> 0</td>\n",
        "      <td> 0</td>\n",
        "    </tr>\n",
        "    <tr>\n",
        "      <th>3</th>\n",
        "      <td> 0</td>\n",
        "      <td> 2</td>\n",
        "      <td> 3</td>\n",
        "      <td> 72.54</td>\n",
        "      <td> 0</td>\n",
        "      <td> 0</td>\n",
        "      <td> NaN</td>\n",
        "      <td> NaN</td>\n",
        "      <td> NaN</td>\n",
        "      <td>NaN</td>\n",
        "      <td>...</td>\n",
        "      <td> 0</td>\n",
        "      <td> 0</td>\n",
        "      <td> 0</td>\n",
        "      <td> 0</td>\n",
        "      <td> 0</td>\n",
        "      <td> 0</td>\n",
        "      <td> 0</td>\n",
        "      <td> 0</td>\n",
        "      <td> 0</td>\n",
        "      <td> 0</td>\n",
        "    </tr>\n",
        "    <tr>\n",
        "      <th>4</th>\n",
        "      <td> 0</td>\n",
        "      <td> 3</td>\n",
        "      <td> 3</td>\n",
        "      <td> 77.18</td>\n",
        "      <td> 0</td>\n",
        "      <td> 0</td>\n",
        "      <td> NaN</td>\n",
        "      <td> NaN</td>\n",
        "      <td> NaN</td>\n",
        "      <td>NaN</td>\n",
        "      <td>...</td>\n",
        "      <td> 0</td>\n",
        "      <td> 0</td>\n",
        "      <td> 0</td>\n",
        "      <td> 0</td>\n",
        "      <td> 0</td>\n",
        "      <td> 0</td>\n",
        "      <td> 0</td>\n",
        "      <td> 0</td>\n",
        "      <td> 0</td>\n",
        "      <td> 0</td>\n",
        "    </tr>\n",
        "  </tbody>\n",
        "</table>\n",
        "<p>5 rows \u00d7 753 columns</p>\n",
        "</div>"
       ],
       "metadata": {},
       "output_type": "pyout",
       "prompt_number": 35,
       "text": [
        "   TARGET  ADMISSION_SOURCE_DESCR  ADMISSION_TYPE_DESCR    AGE  AIDS  \\\n",
        "0       0                       1                     3  56.26     0   \n",
        "1       0                       2                     3  36.85     0   \n",
        "2       0                       3                     1  52.25     0   \n",
        "3       0                       2                     3  72.54     0   \n",
        "4       0                       3                     3  77.18     0   \n",
        "\n",
        "   ALCOHOL_ABUSE  ALP-0->24-mean  ALP-0->24-min  ALP-0->24-max  ALP-0->24-std  \\\n",
        "0              0             NaN            NaN            NaN            NaN   \n",
        "1              0             182            182            182              0   \n",
        "2              0             NaN            NaN            NaN            NaN   \n",
        "3              0             NaN            NaN            NaN            NaN   \n",
        "4              0             NaN            NaN            NaN            NaN   \n",
        "\n",
        "            ...            ESEV-0->24-min_mv  ESEV-0->24-max_mv  \\\n",
        "0           ...                            0                  0   \n",
        "1           ...                            0                  0   \n",
        "2           ...                            0                  0   \n",
        "3           ...                            0                  0   \n",
        "4           ...                            0                  0   \n",
        "\n",
        "   ESEV-0->24-std_mv  Pressors-0->24-sum_mv  Urine-0->24-sum_mv  \\\n",
        "0                  0                      0                   0   \n",
        "1                  0                      0                   0   \n",
        "2                  0                      0                   0   \n",
        "3                  0                      0                   0   \n",
        "4                  0                      0                   0   \n",
        "\n",
        "   Saline-0->24-sum_mv  Ringers-0->24-sum_mv  Coloids-0->24-sum_mv  \\\n",
        "0                    0                     0                     0   \n",
        "1                    0                     0                     0   \n",
        "2                    0                     0                     0   \n",
        "3                    0                     0                     0   \n",
        "4                    0                     0                     0   \n",
        "\n",
        "   Insuline-0->24-sum_mv  Sedatives-0->24-sum_mv  \n",
        "0                      0                       0  \n",
        "1                      0                       0  \n",
        "2                      0                       0  \n",
        "3                      0                       0  \n",
        "4                      0                       0  \n",
        "\n",
        "[5 rows x 753 columns]"
       ]
      }
     ],
     "prompt_number": 35
    },
    {
     "cell_type": "code",
     "collapsed": false,
     "input": [
      "from sklearn.ensemble import RandomForestClassifier\n",
      "from sklearn.cross_validation import cross_val_score\n",
      "from sklearn.preprocessing import Imputer\n",
      "from sklearn.pipeline import Pipeline"
     ],
     "language": "python",
     "metadata": {},
     "outputs": [],
     "prompt_number": 37
    },
    {
     "cell_type": "code",
     "collapsed": false,
     "input": [
      "clf = Pipeline([('imputer', Imputer()), ('rf', RandomForestClassifier(n_estimators=300))])"
     ],
     "language": "python",
     "metadata": {},
     "outputs": [],
     "prompt_number": 61
    },
    {
     "cell_type": "code",
     "collapsed": false,
     "input": [
      "Z = df.values\n",
      "y = Z[:, 0]\n",
      "X = Z[:, 1:]\n",
      "scores = cross_val_score(clf, X, y, cv=5, scoring='roc_auc')\n",
      "print np.mean(scores)"
     ],
     "language": "python",
     "metadata": {},
     "outputs": [
      {
       "output_type": "stream",
       "stream": "stdout",
       "text": [
        "0.790823218817\n"
       ]
      }
     ],
     "prompt_number": 62
    },
    {
     "cell_type": "code",
     "collapsed": false,
     "input": [
      "clf.fit(X, y)\n",
      "fi = clf.steps[-1][1].feature_importances_\n",
      "plt.bar(np.arange(len(fi)), fi)"
     ],
     "language": "python",
     "metadata": {},
     "outputs": [
      {
       "metadata": {},
       "output_type": "pyout",
       "prompt_number": 60,
       "text": [
        "<Container object of 752 artists>"
       ]
      },
      {
       "metadata": {},
       "output_type": "display_data",
       "png": "[encoded data removed]",
       "text": [
        "<matplotlib.figure.Figure at 0x119fae7d0>"
       ]
      }
     ],
     "prompt_number": 60
    }
   ],
   "metadata": {}
  }
 ]
}