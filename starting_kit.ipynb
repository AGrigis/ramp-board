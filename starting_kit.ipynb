{
 "metadata": {
  "name": "",
  "signature": "sha256:d5d664666b83a64243b39cba9a7651aa059ae4ff003ed672cd507d2caa659ba6"
 },
 "nbformat": 3,
 "nbformat_minor": 0,
 "worksheets": [
  {
   "cells": [
    {
     "cell_type": "markdown",
     "metadata": {},
     "source": [
      "### Starting kit on health care data"
     ]
    },
    {
     "cell_type": "code",
     "collapsed": false,
     "input": [
      "%matplotlib inline\n",
      "import numpy as np\n",
      "from scipy import io\n",
      "import matplotlib.pyplot as plt\n",
      "import pandas as pd"
     ],
     "language": "python",
     "metadata": {},
     "outputs": [],
     "prompt_number": 1
    },
    {
     "cell_type": "code",
     "collapsed": false,
     "input": [
      "df = pd.read_csv('train.csv')"
     ],
     "language": "python",
     "metadata": {},
     "outputs": [],
     "prompt_number": 2
    },
    {
     "cell_type": "code",
     "collapsed": false,
     "input": [
      "df.head()"
     ],
     "language": "python",
     "metadata": {},
     "outputs": [
      {
       "html": [
        "<div style=\"max-height:1000px;max-width:1500px;overflow:auto;\">\n",
        "<table border=\"1\" class=\"dataframe\">\n",
        "  <thead>\n",
        "    <tr style=\"text-align: right;\">\n",
        "      <th></th>\n",
        "      <th>TARGET</th>\n",
        "      <th>ADMISSION_SOURCE_DESCR</th>\n",
        "      <th>ADMISSION_TYPE_DESCR</th>\n",
        "      <th>AGE</th>\n",
        "      <th>AIDS</th>\n",
        "      <th>ALCOHOL_ABUSE</th>\n",
        "      <th>ALP-0-&gt;24-mean</th>\n",
        "      <th>ALP-0-&gt;24-min</th>\n",
        "      <th>ALP-0-&gt;24-max</th>\n",
        "      <th>ALP-0-&gt;24-std</th>\n",
        "      <th>...</th>\n",
        "      <th>ESEV-0-&gt;24-min_mv</th>\n",
        "      <th>ESEV-0-&gt;24-max_mv</th>\n",
        "      <th>ESEV-0-&gt;24-std_mv</th>\n",
        "      <th>Pressors-0-&gt;24-sum_mv</th>\n",
        "      <th>Urine-0-&gt;24-sum_mv</th>\n",
        "      <th>Saline-0-&gt;24-sum_mv</th>\n",
        "      <th>Ringers-0-&gt;24-sum_mv</th>\n",
        "      <th>Coloids-0-&gt;24-sum_mv</th>\n",
        "      <th>Insuline-0-&gt;24-sum_mv</th>\n",
        "      <th>Sedatives-0-&gt;24-sum_mv</th>\n",
        "    </tr>\n",
        "  </thead>\n",
        "  <tbody>\n",
        "    <tr>\n",
        "      <th>0</th>\n",
        "      <td> 0</td>\n",
        "      <td> 1</td>\n",
        "      <td> 3</td>\n",
        "      <td> 57.96</td>\n",
        "      <td> 0</td>\n",
        "      <td> 0</td>\n",
        "      <td>NaN</td>\n",
        "      <td>NaN</td>\n",
        "      <td>NaN</td>\n",
        "      <td>       NaN</td>\n",
        "      <td>...</td>\n",
        "      <td> 0</td>\n",
        "      <td> 0</td>\n",
        "      <td> 0</td>\n",
        "      <td> 0</td>\n",
        "      <td> 0</td>\n",
        "      <td> 0</td>\n",
        "      <td> 0</td>\n",
        "      <td> 0</td>\n",
        "      <td> 0</td>\n",
        "      <td> 0</td>\n",
        "    </tr>\n",
        "    <tr>\n",
        "      <th>1</th>\n",
        "      <td> 1</td>\n",
        "      <td> 1</td>\n",
        "      <td> 3</td>\n",
        "      <td> 78.01</td>\n",
        "      <td> 0</td>\n",
        "      <td> 0</td>\n",
        "      <td>NaN</td>\n",
        "      <td>NaN</td>\n",
        "      <td>NaN</td>\n",
        "      <td>       NaN</td>\n",
        "      <td>...</td>\n",
        "      <td> 0</td>\n",
        "      <td> 0</td>\n",
        "      <td> 0</td>\n",
        "      <td> 0</td>\n",
        "      <td> 0</td>\n",
        "      <td> 0</td>\n",
        "      <td> 0</td>\n",
        "      <td> 0</td>\n",
        "      <td> 0</td>\n",
        "      <td> 0</td>\n",
        "    </tr>\n",
        "    <tr>\n",
        "      <th>2</th>\n",
        "      <td> 1</td>\n",
        "      <td> 1</td>\n",
        "      <td> 3</td>\n",
        "      <td> 68.58</td>\n",
        "      <td> 0</td>\n",
        "      <td> 0</td>\n",
        "      <td>NaN</td>\n",
        "      <td>NaN</td>\n",
        "      <td>NaN</td>\n",
        "      <td>       NaN</td>\n",
        "      <td>...</td>\n",
        "      <td> 0</td>\n",
        "      <td> 0</td>\n",
        "      <td> 0</td>\n",
        "      <td> 0</td>\n",
        "      <td> 0</td>\n",
        "      <td> 0</td>\n",
        "      <td> 0</td>\n",
        "      <td> 0</td>\n",
        "      <td> 0</td>\n",
        "      <td> 0</td>\n",
        "    </tr>\n",
        "    <tr>\n",
        "      <th>3</th>\n",
        "      <td> 0</td>\n",
        "      <td> 1</td>\n",
        "      <td> 3</td>\n",
        "      <td> 83.17</td>\n",
        "      <td> 0</td>\n",
        "      <td> 0</td>\n",
        "      <td>NaN</td>\n",
        "      <td>NaN</td>\n",
        "      <td>NaN</td>\n",
        "      <td>       NaN</td>\n",
        "      <td>...</td>\n",
        "      <td> 0</td>\n",
        "      <td> 0</td>\n",
        "      <td> 0</td>\n",
        "      <td> 0</td>\n",
        "      <td> 0</td>\n",
        "      <td> 0</td>\n",
        "      <td> 0</td>\n",
        "      <td> 0</td>\n",
        "      <td> 0</td>\n",
        "      <td> 0</td>\n",
        "    </tr>\n",
        "    <tr>\n",
        "      <th>4</th>\n",
        "      <td> 1</td>\n",
        "      <td> 1</td>\n",
        "      <td> 3</td>\n",
        "      <td> 65.79</td>\n",
        "      <td> 0</td>\n",
        "      <td> 0</td>\n",
        "      <td> 82</td>\n",
        "      <td> 71</td>\n",
        "      <td> 93</td>\n",
        "      <td> 15.556349</td>\n",
        "      <td>...</td>\n",
        "      <td> 0</td>\n",
        "      <td> 0</td>\n",
        "      <td> 0</td>\n",
        "      <td> 0</td>\n",
        "      <td> 0</td>\n",
        "      <td> 0</td>\n",
        "      <td> 0</td>\n",
        "      <td> 0</td>\n",
        "      <td> 0</td>\n",
        "      <td> 0</td>\n",
        "    </tr>\n",
        "  </tbody>\n",
        "</table>\n",
        "<p>5 rows \u00d7 753 columns</p>\n",
        "</div>"
       ],
       "metadata": {},
       "output_type": "pyout",
       "prompt_number": 4,
       "text": [
        "   TARGET  ADMISSION_SOURCE_DESCR  ADMISSION_TYPE_DESCR    AGE  AIDS  \\\n",
        "0       0                       1                     3  57.96     0   \n",
        "1       1                       1                     3  78.01     0   \n",
        "2       1                       1                     3  68.58     0   \n",
        "3       0                       1                     3  83.17     0   \n",
        "4       1                       1                     3  65.79     0   \n",
        "\n",
        "   ALCOHOL_ABUSE  ALP-0->24-mean  ALP-0->24-min  ALP-0->24-max  ALP-0->24-std  \\\n",
        "0              0             NaN            NaN            NaN            NaN   \n",
        "1              0             NaN            NaN            NaN            NaN   \n",
        "2              0             NaN            NaN            NaN            NaN   \n",
        "3              0             NaN            NaN            NaN            NaN   \n",
        "4              0              82             71             93      15.556349   \n",
        "\n",
        "       ...        ESEV-0->24-min_mv  ESEV-0->24-max_mv  ESEV-0->24-std_mv  \\\n",
        "0      ...                        0                  0                  0   \n",
        "1      ...                        0                  0                  0   \n",
        "2      ...                        0                  0                  0   \n",
        "3      ...                        0                  0                  0   \n",
        "4      ...                        0                  0                  0   \n",
        "\n",
        "   Pressors-0->24-sum_mv  Urine-0->24-sum_mv  Saline-0->24-sum_mv  \\\n",
        "0                      0                   0                    0   \n",
        "1                      0                   0                    0   \n",
        "2                      0                   0                    0   \n",
        "3                      0                   0                    0   \n",
        "4                      0                   0                    0   \n",
        "\n",
        "   Ringers-0->24-sum_mv  Coloids-0->24-sum_mv  Insuline-0->24-sum_mv  \\\n",
        "0                     0                     0                      0   \n",
        "1                     0                     0                      0   \n",
        "2                     0                     0                      0   \n",
        "3                     0                     0                      0   \n",
        "4                     0                     0                      0   \n",
        "\n",
        "   Sedatives-0->24-sum_mv  \n",
        "0                       0  \n",
        "1                       0  \n",
        "2                       0  \n",
        "3                       0  \n",
        "4                       0  \n",
        "\n",
        "[5 rows x 753 columns]"
       ]
      }
     ],
     "prompt_number": 4
    },
    {
     "cell_type": "code",
     "collapsed": false,
     "input": [
      "df.shape"
     ],
     "language": "python",
     "metadata": {},
     "outputs": [
      {
       "metadata": {},
       "output_type": "pyout",
       "prompt_number": 9,
       "text": [
        "(1713, 753)"
       ]
      }
     ],
     "prompt_number": 9
    },
    {
     "cell_type": "code",
     "collapsed": false,
     "input": [
      "from sklearn.ensemble import RandomForestClassifier\n",
      "from sklearn.cross_validation import cross_val_score\n",
      "from sklearn.preprocessing import Imputer\n",
      "from sklearn.pipeline import Pipeline"
     ],
     "language": "python",
     "metadata": {},
     "outputs": [],
     "prompt_number": 5
    },
    {
     "cell_type": "code",
     "collapsed": false,
     "input": [
      "clf = Pipeline([('imputer', Imputer()), ('rf', RandomForestClassifier(n_estimators=300))])"
     ],
     "language": "python",
     "metadata": {},
     "outputs": [],
     "prompt_number": 6
    },
    {
     "cell_type": "code",
     "collapsed": false,
     "input": [
      "y = df['TARGET'].values\n",
      "X = df.drop('TARGET', axis=1).values\n",
      "scores = cross_val_score(clf, X, y, cv=5, scoring='roc_auc')\n",
      "print np.mean(scores)"
     ],
     "language": "python",
     "metadata": {},
     "outputs": [
      {
       "output_type": "stream",
       "stream": "stdout",
       "text": [
        "0.795016467211\n"
       ]
      }
     ],
     "prompt_number": 7
    },
    {
     "cell_type": "code",
     "collapsed": false,
     "input": [
      "clf.fit(X, y)\n",
      "fi = clf.steps[-1][1].feature_importances_\n",
      "plt.bar(np.arange(len(fi)), fi)"
     ],
     "language": "python",
     "metadata": {},
     "outputs": [
      {
       "metadata": {},
       "output_type": "pyout",
       "prompt_number": 8,
       "text": [
        "<Container object of 752 artists>"
       ]
      },
      {
       "metadata": {},
       "output_type": "display_data",
       "png": "[encoded data removed]",
       "text": [
        "<matplotlib.figure.Figure at 0x102f7a350>"
       ]
      }
     ],
     "prompt_number": 8
    },
    {
     "cell_type": "code",
     "collapsed": false,
     "input": [],
     "language": "python",
     "metadata": {},
     "outputs": []
    }
   ],
   "metadata": {}
  }
 ]
}