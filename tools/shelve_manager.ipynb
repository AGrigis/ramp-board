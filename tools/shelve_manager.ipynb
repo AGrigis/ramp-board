{
 "cells": [
  {
   "cell_type": "code",
   "execution_count": 1,
   "metadata": {
    "collapsed": true
   },
   "outputs": [],
   "source": [
    "import shelve "
   ]
  },
  {
   "cell_type": "code",
   "execution_count": 9,
   "metadata": {
    "collapsed": false
   },
   "outputs": [],
   "source": [
    "from enum import Enum\n",
    "ModelState = Enum('ModelState', 'new trained error')"
   ]
  },
  {
   "cell_type": "code",
   "execution_count": 16,
   "metadata": {
    "collapsed": false
   },
   "outputs": [],
   "source": [
    "db = shelve.open('/tmp/databoard_local/shelve.db', 'c')"
   ]
  },
  {
   "cell_type": "code",
   "execution_count": 17,
   "metadata": {
    "collapsed": true
   },
   "outputs": [],
   "source": [
    "models = db['models']"
   ]
  },
  {
   "cell_type": "code",
   "execution_count": 18,
   "metadata": {
    "collapsed": false
   },
   "outputs": [
    {
     "data": {
      "text/html": [
       "<div>\n",
       "<table border=\"1\" class=\"dataframe\">\n",
       "  <thead>\n",
       "    <tr style=\"text-align: right;\">\n",
       "      <th></th>\n",
       "      <th>listing</th>\n",
       "      <th>model</th>\n",
       "      <th>state</th>\n",
       "      <th>team</th>\n",
       "      <th>timestamp</th>\n",
       "    </tr>\n",
       "  </thead>\n",
       "  <tbody>\n",
       "    <tr>\n",
       "      <th>ma9db62cd8f93fb4c7c67eec7c35097d3b6d27922</th>\n",
       "      <td>classifier.py</td>\n",
       "      <td>rf</td>\n",
       "      <td>new</td>\n",
       "      <td>test</td>\n",
       "      <td>1444513757</td>\n",
       "    </tr>\n",
       "    <tr>\n",
       "      <th>m3ad60045d7a05f31d8160d5a1997724e8c33ddbb</th>\n",
       "      <td>classifier.py</td>\n",
       "      <td>rf2</td>\n",
       "      <td>new</td>\n",
       "      <td>test</td>\n",
       "      <td>1444513754</td>\n",
       "    </tr>\n",
       "  </tbody>\n",
       "</table>\n",
       "</div>"
      ],
      "text/plain": [
       "                                                 listing model state  team  \\\n",
       "ma9db62cd8f93fb4c7c67eec7c35097d3b6d27922  classifier.py    rf   new  test   \n",
       "m3ad60045d7a05f31d8160d5a1997724e8c33ddbb  classifier.py   rf2   new  test   \n",
       "\n",
       "                                            timestamp  \n",
       "ma9db62cd8f93fb4c7c67eec7c35097d3b6d27922  1444513757  \n",
       "m3ad60045d7a05f31d8160d5a1997724e8c33ddbb  1444513754  "
      ]
     },
     "execution_count": 18,
     "metadata": {},
     "output_type": "execute_result"
    }
   ],
   "source": [
    "models"
   ]
  },
  {
   "cell_type": "code",
   "execution_count": null,
   "metadata": {
    "collapsed": true
   },
   "outputs": [],
   "source": []
  }
 ],
 "metadata": {
  "kernelspec": {
   "display_name": "Python 2",
   "language": "python",
   "name": "python2"
  },
  "language_info": {
   "codemirror_mode": {
    "name": "ipython",
    "version": 2
   },
   "file_extension": ".py",
   "mimetype": "text/x-python",
   "name": "python",
   "nbconvert_exporter": "python",
   "pygments_lexer": "ipython2",
   "version": "2.7.10"
  }
 },
 "nbformat": 4,
 "nbformat_minor": 0
}
